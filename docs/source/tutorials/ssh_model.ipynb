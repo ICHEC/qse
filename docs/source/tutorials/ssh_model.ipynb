{
 "cells": [
  {
   "cell_type": "markdown",
   "metadata": {},
   "source": [
    "# Simulating the SSH model\n",
    "\n",
    "Here we simulate the SSH model using the Pulser backend.\n",
    "We follow the work of De Léséleuc et al. in [\"Observation of a symmetry-protected topological phase of interacting bosons with Rydberg atoms\"](https://www.science.org/doi/10.1126/science.aav9105) (available also on [arxiv](https://arxiv.org/abs/1810.13286))."
   ]
  },
  {
   "cell_type": "markdown",
   "metadata": {},
   "source": [
    "Using a Microwave channel, the interaction Hamiltonian is given by\n",
    "\n",
    "```{math}\n",
    "H = \\sum_{i=1}^N \\sum_{j<i} C_{ij} (\\sigma_i^+ \\sigma_j^- + \\sigma_i^- \\sigma_j^+)\n",
    "```\n",
    "where \n",
    "{math}`C_{ij} = \\frac{C_3(1-3\\cos^2\\theta_{ij})}{R_{ij}^3}`.\n",
    "Here {math}`R_{ij}` is the distance between qubits {math}`i` and {math}`j`, {math}`R_{ij}=|\\textbf{x}_i-\\textbf{x}_j|`, and {math}`\\theta_{ij}` is the angle between {math}`\\textbf{x}_i-\\textbf{x}_j` and the magnetic field.\n",
    "See the [Pulser docs](https://pulser.readthedocs.io/en/stable/tutorials/xy_spin_chain.html) for more information.\n",
    "\n",
    "By appropriate choice of the qubit geometry we can approximate the [SSH model](https://en.wikipedia.org/wiki/Su%E2%80%93Schrieffer%E2%80%93Heeger_model) for hard bosons.\n",
    "For example, when \n",
    "$$ \\theta_{ij} = \\cos^{-1}\\sqrt{1/3}$$\n",
    "there will be no interaction between qubits {math}`i` and {math}`j`. We use this to model the SSH model below.\n"
   ]
  },
  {
   "cell_type": "code",
   "execution_count": null,
   "metadata": {},
   "outputs": [],
   "source": [
    "import qse\n",
    "import pulser\n",
    "import numpy as np\n",
    "import matplotlib.pyplot as plt"
   ]
  },
  {
   "cell_type": "code",
   "execution_count": null,
   "metadata": {},
   "outputs": [],
   "source": [
    "angle = np.arccos(np.sqrt(1.0 / 3.0)) * 180 / np.pi\n",
    "print(f\"Angle is: {angle:.2f} degrees\")"
   ]
  },
  {
   "cell_type": "markdown",
   "metadata": {},
   "source": [
    "We create two chains of qubits, A and B.\n",
    "By rotating them by the angle above, there will be no interactions between qubits on the same chain."
   ]
  },
  {
   "cell_type": "code",
   "execution_count": null,
   "metadata": {},
   "outputs": [],
   "source": [
    "lattice_spacing = 12\n",
    "repeats = 4\n",
    "\n",
    "qbits1 = qse.lattices.chain(lattice_spacing=lattice_spacing, repeats=repeats)\n",
    "qbits1.labels = [f\"A{i}-{i}\" for i in range(repeats)]\n",
    "\n",
    "qbits2 = qse.lattices.chain(lattice_spacing=lattice_spacing, repeats=repeats)\n",
    "qbits2.labels = [f\"B{i}-{i+repeats}\" for i in range(repeats)]\n",
    "qbits2.translate((lattice_spacing * 0.5, 8, 0))\n",
    "\n",
    "qbits_ssh = qbits1 + qbits2\n",
    "qbits_ssh.rotate(\n",
    "    90 - angle\n",
    ")  # by rotating to this angle interactions in the A & B chains will cancel.\n",
    "\n",
    "qbits_ssh.draw(show_labels=True, units=\"µm\")"
   ]
  },
  {
   "cell_type": "markdown",
   "metadata": {},
   "source": [
    "We can verify that there are no interactions in the same chain by computing the couplings between qubits."
   ]
  },
  {
   "cell_type": "code",
   "execution_count": null,
   "metadata": {},
   "outputs": [],
   "source": [
    "magnetic_field = np.array([0.0, 1.0, 0.0])\n",
    "c3 = 3700\n",
    "\n",
    "\n",
    "def compute_hamilton_coef(i, j):\n",
    "    \"\"\"Compute the hamiltonian coefficient between qubits i & j.\"\"\"\n",
    "    r = qbits_ssh.positions[i] - qbits_ssh.positions[j]\n",
    "    d = np.linalg.norm(r)\n",
    "    r /= d\n",
    "    cos_theta = np.dot(r, magnetic_field)\n",
    "    return c3 * (1 - 3 * cos_theta**2) / d**3\n",
    "\n",
    "\n",
    "couplings = [\n",
    "    [compute_hamilton_coef(i, j) for j in range(i + 1, qbits_ssh.nqbits)]\n",
    "    for i in range(qbits_ssh.nqbits - 1)\n",
    "]\n",
    "couplings = [j for i in couplings for j in i]\n",
    "coupling_mat = np.zeros((qbits_ssh.nqbits, qbits_ssh.nqbits))\n",
    "coupling_mat[np.triu_indices(qbits_ssh.nqbits, 1)] = couplings\n",
    "couplings\n",
    "for i in range(1, qbits_ssh.nqbits):\n",
    "    print(f\"Coupling between qbits 0 & {i}:\", coupling_mat[0, i])"
   ]
  },
  {
   "cell_type": "code",
   "execution_count": null,
   "metadata": {},
   "outputs": [],
   "source": [
    "# Let's visualize the couplings\n",
    "bonds = np.abs(coupling_mat)\n",
    "bonds /= np.max(bonds)\n",
    "qbits_ssh.draw(show_labels=True, units=\"µm\")\n",
    "for i in range(0, qbits_ssh.nqbits - 1):\n",
    "    for j in range(i + 1, qbits_ssh.nqbits):\n",
    "        xs_ij = qbits_ssh.positions[[i, j]]\n",
    "        plt.plot(xs_ij[:, 0], xs_ij[:, 1], c=\"k\", alpha=bonds[i, j], zorder=-1)"
   ]
  },
  {
   "cell_type": "markdown",
   "metadata": {},
   "source": [
    "Thus we see that there are no couplings between qubits in the same chain, and hence we have a SSH model.\n",
    "Finally we can visualize the Hamiltonian."
   ]
  },
  {
   "cell_type": "code",
   "execution_count": null,
   "metadata": {},
   "outputs": [],
   "source": [
    "simple_pulse = pulser.Pulse.ConstantPulse(10, 0.0, 0.0, 0.0)\n",
    "pcalc_ssh = qse.calc.Pulser(\n",
    "    qbits=qbits_ssh,\n",
    "    amplitude=simple_pulse.amplitude,\n",
    "    detuning=simple_pulse.detuning,\n",
    "    channel=\"mw_global\",\n",
    "    magnetic_field=magnetic_field,\n",
    ")\n",
    "pcalc_ssh.build_sequence()\n",
    "pcalc_ssh.calculate()"
   ]
  },
  {
   "cell_type": "code",
   "execution_count": null,
   "metadata": {},
   "outputs": [],
   "source": [
    "ham = pcalc_ssh.sim.get_hamiltonian(0).full()\n",
    "fig = qse.visualise.view_matrix(ham.real, vcenter=0.0)"
   ]
  },
  {
   "cell_type": "markdown",
   "metadata": {},
   "source": [
    "## Version"
   ]
  },
  {
   "cell_type": "code",
   "execution_count": null,
   "metadata": {},
   "outputs": [],
   "source": [
    "qse.utils.print_environment()"
   ]
  }
 ],
 "metadata": {
  "kernelspec": {
   "display_name": "qse",
   "language": "python",
   "name": "python3"
  },
  "language_info": {
   "codemirror_mode": {
    "name": "ipython",
    "version": 3
   },
   "file_extension": ".py",
   "mimetype": "text/x-python",
   "name": "python",
   "nbconvert_exporter": "python",
   "pygments_lexer": "ipython3",
   "version": "3.11.11"
  }
 },
 "nbformat": 4,
 "nbformat_minor": 2
}
