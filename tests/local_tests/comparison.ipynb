{
 "cells": [
  {
   "cell_type": "code",
   "execution_count": 1,
   "metadata": {},
   "outputs": [],
   "source": [
    "import numpy as np"
   ]
  },
  {
   "cell_type": "code",
   "execution_count": 14,
   "metadata": {},
   "outputs": [
    {
     "data": {
      "text/plain": [
       "array([ 4.12735807e-06+6.32963304e-05j,  7.91659626e-05-1.96061278e-04j,\n",
       "       -4.55941060e-05-2.79565615e-04j, -2.21046275e-03+2.80128427e-04j,\n",
       "       -4.55941060e-05-2.79565615e-04j, -1.34519266e-01+2.47150151e-02j,\n",
       "        1.11393864e-01+5.20646472e-02j,  6.03857902e-01+0.00000000e+00j,\n",
       "        7.91659626e-05-1.96061278e-04j, -4.14831526e-04-1.39868701e-03j,\n",
       "       -1.34519266e-01+2.47150151e-02j, -3.79854901e-02+1.92160196e-01j,\n",
       "       -2.21046275e-03+2.80128427e-04j, -3.79854901e-02+1.92160196e-01j,\n",
       "        6.03857902e-01+0.00000000e+00j, -1.66311397e-01+3.37299209e-01j])"
      ]
     },
     "execution_count": 14,
     "metadata": {},
     "output_type": "execute_result"
    }
   ],
   "source": [
    "results_pulser = np.load(\"results_pulser.npy\", allow_pickle=True).item()\n",
    "results_pulser[\"state\"]"
   ]
  },
  {
   "cell_type": "code",
   "execution_count": 33,
   "metadata": {},
   "outputs": [
    {
     "data": {
      "text/plain": [
       "array([-9.70467606e-01-2.14626713e-01j, -4.66639792e-03-4.35934017e-03j,\n",
       "       -1.71460660e-03-2.11742763e-03j,  1.89946553e-04-7.42223626e-04j,\n",
       "       -1.71460660e-03-2.11742763e-03j, -1.49169407e-05-1.62198635e-05j,\n",
       "       -6.14670248e-06-1.55691687e-05j, -2.09433590e-06-3.47986647e-06j,\n",
       "       -4.66639792e-03-4.35934017e-03j, -2.07534640e-05-4.34294941e-05j,\n",
       "       -1.49169407e-05-1.62198635e-05j,  1.30667554e-07+3.03211328e-06j,\n",
       "        1.89946553e-04-7.42223626e-04j,  1.30667554e-07+3.03211328e-06j,\n",
       "       -2.09433590e-06-3.47986647e-06j, -5.85598846e-07-1.00943203e-06j])"
      ]
     },
     "execution_count": 33,
     "metadata": {},
     "output_type": "execute_result"
    }
   ],
   "source": [
    "results_myqlm = np.load(\"results_myqlm.npy\", allow_pickle=True).item()\n",
    "results_myqlm[\"state\"]"
   ]
  },
  {
   "cell_type": "code",
   "execution_count": null,
   "metadata": {},
   "outputs": [
    {
     "data": {
      "text/plain": [
       "0.36800162437136397"
      ]
     },
     "execution_count": 35,
     "metadata": {},
     "output_type": "execute_result"
    }
   ],
   "source": [
    "np.abs((np.conj(results_pulser[\"state\"]) * results_myqlm[\"state\"]).sum())"
   ]
  },
  {
   "cell_type": "code",
   "execution_count": 28,
   "metadata": {},
   "outputs": [
    {
     "data": {
      "text/plain": [
       "array([-1.33580961e-04-9.93643739e-05j, -3.50347388e-04-2.16411847e-05j,\n",
       "        8.58070709e-04+1.10018857e-03j, -6.88086875e-01-6.78502892e-01j,\n",
       "        8.58070709e-04+1.10018857e-03j, -3.75482990e-01-1.05586088e+00j,\n",
       "        7.99632270e+01-3.29386958e+00j, -3.60586190e+02-2.80862897e+03j,\n",
       "       -3.50347388e-04-2.16411847e-05j, -6.57553294e-03+9.09300342e-03j,\n",
       "       -3.75482990e-01-1.05586088e+00j,  7.96589258e+01+8.31453567e+02j,\n",
       "       -6.88086875e-01-6.78502892e-01j,  7.96589258e+01+8.31453567e+02j,\n",
       "       -3.60586190e+02-2.80862897e+03j, -1.15422339e+02+5.60490358e+01j])"
      ]
     },
     "execution_count": 28,
     "metadata": {},
     "output_type": "execute_result"
    }
   ],
   "source": [
    "results_pulser[\"state\"] / results_myqlm[\"state\"]"
   ]
  },
  {
   "cell_type": "code",
   "execution_count": null,
   "metadata": {},
   "outputs": [],
   "source": []
  }
 ],
 "metadata": {
  "kernelspec": {
   "display_name": "base",
   "language": "python",
   "name": "python3"
  },
  "language_info": {
   "codemirror_mode": {
    "name": "ipython",
    "version": 3
   },
   "file_extension": ".py",
   "mimetype": "text/x-python",
   "name": "python",
   "nbconvert_exporter": "python",
   "pygments_lexer": "ipython3",
   "version": "3.12.7"
  }
 },
 "nbformat": 4,
 "nbformat_minor": 2
}
