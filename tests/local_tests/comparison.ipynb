{
 "cells": [
  {
   "cell_type": "code",
   "execution_count": 1,
   "metadata": {},
   "outputs": [],
   "source": [
    "import numpy as np"
   ]
  },
  {
   "cell_type": "code",
   "execution_count": 2,
   "metadata": {},
   "outputs": [
    {
     "name": "stdout",
     "output_type": "stream",
     "text": [
      "pulser\n",
      "qse: 1.0.1\n",
      "Date: 2025-10-20 15:38:46\n",
      "myqlm\n",
      "qse: 1.0.3\n",
      "Date: 2025-10-20 16:07:05\n"
     ]
    }
   ],
   "source": [
    "results = {}\n",
    "\n",
    "for calc in [\"pulser\", \"myqlm\"]:\n",
    "    result = np.load(f\"results_{calc}.npy\", allow_pickle=True).item()\n",
    "\n",
    "    assert result[\"calculator\"] == calc\n",
    "    print(calc)\n",
    "    print(\"qse:\", result[\"qse\"])\n",
    "    print(\"Date:\", result[\"date\"])\n",
    "\n",
    "    results[calc] = result[\"state\"]"
   ]
  },
  {
   "cell_type": "code",
   "execution_count": 3,
   "metadata": {},
   "outputs": [
    {
     "data": {
      "text/plain": [
       "1.58454360443816e-05"
      ]
     },
     "execution_count": 3,
     "metadata": {},
     "output_type": "execute_result"
    }
   ],
   "source": [
    "overlap = (np.conj(results[\"pulser\"]) * results[\"myqlm\"]).sum()\n",
    "\n",
    "infidelity = 1.0 - np.abs(overlap) ** 2\n",
    "infidelity"
   ]
  }
 ],
 "metadata": {
  "kernelspec": {
   "display_name": "base",
   "language": "python",
   "name": "python3"
  },
  "language_info": {
   "codemirror_mode": {
    "name": "ipython",
    "version": 3
   },
   "file_extension": ".py",
   "mimetype": "text/x-python",
   "name": "python",
   "nbconvert_exporter": "python",
   "pygments_lexer": "ipython3",
   "version": "3.12.7"
  }
 },
 "nbformat": 4,
 "nbformat_minor": 2
}
