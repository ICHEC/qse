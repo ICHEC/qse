{
 "cells": [
  {
   "cell_type": "markdown",
   "metadata": {},
   "source": [
    "# Pulser Calculation Example\n",
    "\n",
    "Following are the imports required to run this example:"
   ]
  },
  {
   "cell_type": "code",
   "execution_count": null,
   "metadata": {},
   "outputs": [],
   "source": [
    "import matplotlib.pyplot as plt\n",
    "import numpy as np\n",
    "import qse\n",
    "import pulser"
   ]
  },
  {
   "cell_type": "markdown",
   "metadata": {},
   "source": [
    "## 2D square lattice"
   ]
  },
  {
   "cell_type": "code",
   "execution_count": null,
   "metadata": {},
   "outputs": [],
   "source": [
    "# Parameters in rad/µs and ns\n",
    "Omega_max = 2.0 * 2 * np.pi\n",
    "U = Omega_max / 2.0\n",
    "delta_0 = -6 * U\n",
    "delta_f = 2 * U\n",
    "t_rise = 252\n",
    "t_fall = 500\n",
    "t_sweep = (delta_f - delta_0) / (2 * np.pi * 10) * 1000\n",
    "\n",
    "# We extract the reference blockade radius from pulser here\n",
    "R_interatomic = pulser.devices.MockDevice.rydberg_blockade_radius(U)\n",
    "\n",
    "L1, L2 = 3, 2  # lattice size\n",
    "\n",
    "# Now we generate the qbits object that represents 1D lattice with r0 as lattice spacing\n",
    "# Keeping r0 a bit below blockade radius keeps the nearest neighbours antiferromagnetic\n",
    "r0 = 0.8 * R_interatomic\n",
    "q2d = qse.lattices.square(r0, L1, L2)\n",
    "\n",
    "q2d.draw(radius=R_interatomic)"
   ]
  },
  {
   "cell_type": "markdown",
   "metadata": {},
   "source": [
    "## Hamiltonian creation for 2D lattice"
   ]
  },
  {
   "cell_type": "code",
   "execution_count": null,
   "metadata": {},
   "outputs": [],
   "source": [
    "# up ramp, constant, downramp waveform\n",
    "amplitude_afm = pulser.CompositeWaveform(\n",
    "    pulser.waveforms.RampWaveform(t_rise, 0.0, Omega_max),\n",
    "    pulser.waveforms.ConstantWaveform(t_sweep, Omega_max),\n",
    "    pulser.waveforms.RampWaveform(t_fall, Omega_max, 0.0),\n",
    ")\n",
    "\n",
    "# corresponding waveform for detuning\n",
    "detuning_afm = pulser.CompositeWaveform(\n",
    "    pulser.waveforms.ConstantWaveform(t_rise, delta_0),\n",
    "    pulser.waveforms.RampWaveform(t_sweep, delta_0, delta_f),\n",
    "    pulser.waveforms.ConstantWaveform(t_fall, delta_f),\n",
    ")"
   ]
  },
  {
   "cell_type": "code",
   "execution_count": null,
   "metadata": {},
   "outputs": [],
   "source": [
    "amplitude_afm.draw()\n",
    "detuning_afm.draw()"
   ]
  },
  {
   "cell_type": "markdown",
   "metadata": {},
   "source": [
    "## Setting up the calculator"
   ]
  },
  {
   "cell_type": "code",
   "execution_count": null,
   "metadata": {},
   "outputs": [],
   "source": [
    "assert isinstance(amplitude_afm, pulser.waveforms.Waveform)\n",
    "pcalc = qse.calc.Pulser(qbits=q2d, amplitude=amplitude_afm, detuning=detuning_afm)"
   ]
  },
  {
   "cell_type": "markdown",
   "metadata": {},
   "source": [
    "## Running the job"
   ]
  },
  {
   "cell_type": "code",
   "execution_count": null,
   "metadata": {},
   "outputs": [],
   "source": [
    "pcalc.build_sequence()\n",
    "pcalc.calculate()"
   ]
  },
  {
   "cell_type": "code",
   "execution_count": null,
   "metadata": {},
   "outputs": [],
   "source": [
    "pcalc.spins"
   ]
  },
  {
   "cell_type": "code",
   "execution_count": null,
   "metadata": {},
   "outputs": [],
   "source": [
    "pcalc.get_sij()"
   ]
  },
  {
   "cell_type": "code",
   "execution_count": null,
   "metadata": {},
   "outputs": [],
   "source": [
    "pcalc.structure_factor_from_sij(L1, L2, 1)"
   ]
  },
  {
   "cell_type": "markdown",
   "metadata": {},
   "source": [
    "## Sampling the result"
   ]
  },
  {
   "cell_type": "code",
   "execution_count": null,
   "metadata": {},
   "outputs": [],
   "source": [
    "count = pcalc.results.sample_final_state()\n",
    "\n",
    "most_freq = {k: v for k, v in count.items() if v > 10}\n",
    "plt.bar(list(most_freq.keys()), list(most_freq.values()))\n",
    "plt.xticks(rotation=\"vertical\")\n",
    "plt.show()"
   ]
  },
  {
   "cell_type": "markdown",
   "metadata": {},
   "source": [
    "## Version"
   ]
  },
  {
   "cell_type": "code",
   "execution_count": null,
   "metadata": {},
   "outputs": [],
   "source": [
    "!python --version"
   ]
  },
  {
   "cell_type": "code",
   "execution_count": null,
   "metadata": {},
   "outputs": [],
   "source": [
    "print(qse.__name__, qse.__version__)"
   ]
  }
 ],
 "metadata": {
  "kernelspec": {
   "display_name": "qse",
   "language": "python",
   "name": "python3"
  },
  "language_info": {
   "codemirror_mode": {
    "name": "ipython",
    "version": 3
   },
   "file_extension": ".py",
   "mimetype": "text/x-python",
   "name": "python",
   "nbconvert_exporter": "python",
   "pygments_lexer": "ipython3",
   "version": "3.11.11"
  }
 },
 "nbformat": 4,
 "nbformat_minor": 2
}
