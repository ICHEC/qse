{
 "cells": [
  {
   "cell_type": "markdown",
   "metadata": {},
   "source": [
    "# Simulating the SSH model\n",
    "\n",
    "Here we simulate the SSH model using the Pulser backend.\n",
    "We follow the work of De Léséleuc et al. in [\"Observation of a symmetry-protected topological phase of interacting bosons with Rydberg atoms\"](https://www.science.org/doi/10.1126/science.aav9105) (available also on [arxiv](https://arxiv.org/abs/1810.13286))."
   ]
  },
  {
   "cell_type": "markdown",
   "metadata": {},
   "source": [
    "Using a Microwave channel, the interaction Hamiltonian is given by\n",
    "$$ H = \\sum_{i=1}^N \\sum_{j<i} C_{ij} (\\sigma_i^+ \\sigma_j^- + \\sigma_i^- \\sigma_j^+) $$\n",
    "\n",
    "where \n",
    "$$ C_{ij} = \\frac{C_3(1-3\\cos^2\\theta_{ij})}{R_{ij}^3} .$$\n",
    "Here $R_{ij}$ is the distance between qubits $i$ and $j$, $R_{ij}=|\\textbf{x}_i-\\textbf{x}_j|$, and $\\theta_{ij}$ is the angle between $\\textbf{x}_i-\\textbf{x}_j$ and the magnetic field.\n",
    "See the [Pulser docs](https://pulser.readthedocs.io/en/stable/tutorials/xy_spin_chain.html) for more information.\n",
    "\n",
    "By appropriate choice of the qubit geometry we can approximate the [SSH model](https://en.wikipedia.org/wiki/Su%E2%80%93Schrieffer%E2%80%93Heeger_model) for hard bosons.\n",
    "For example, when \n",
    "$$ \\theta_{ij} = \\cos^{-1}\\sqrt{1/3}$$\n",
    "there will be no interaction between qubits $i$ and $j$. We use this to model the SSH model below.\n"
   ]
  },
  {
   "cell_type": "code",
   "execution_count": null,
   "metadata": {},
   "outputs": [],
   "source": [
    "import qse\n",
    "import pulser\n",
    "import numpy as np\n",
    "import matplotlib.pyplot as plt"
   ]
  },
  {
   "cell_type": "code",
   "execution_count": null,
   "metadata": {},
   "outputs": [],
   "source": [
    "angle = np.arccos(np.sqrt(1.0 / 3.0)) * 180 / np.pi\n",
    "print(angle)"
   ]
  },
  {
   "cell_type": "code",
   "execution_count": null,
   "metadata": {},
   "outputs": [],
   "source": [
    "lattice_spacing = 12\n",
    "repeats = 3\n",
    "\n",
    "qbits1 = qse.lattices.chain(lattice_spacing=lattice_spacing, repeats=repeats)\n",
    "qbits1.labels = [f\"A{i}\" for i in range(repeats)]\n",
    "\n",
    "qbits2 = qse.lattices.chain(lattice_spacing=lattice_spacing, repeats=repeats)\n",
    "qbits2.labels = [f\"B{i}\" for i in range(repeats)]\n",
    "qbits2.translate((lattice_spacing * 0.5, 8, 0))\n",
    "\n",
    "qbits_ssh = qbits1 + qbits2\n",
    "qbits_ssh.rotate(90 - angle)  # by rotating to this angle interactions will cancel.\n",
    "\n",
    "for i in range(qbits_ssh.nqbits):\n",
    "    qbits_ssh.labels[i] += f\"-{i}\"\n",
    "\n",
    "qbits_ssh.draw(show_labels=True, units=\"µm\")"
   ]
  },
  {
   "cell_type": "code",
   "execution_count": null,
   "metadata": {},
   "outputs": [],
   "source": [
    "# Let's check the Hamiltonian values\n",
    "magnetic_field = np.array([0.0, 1.0, 0.0])\n",
    "c3 = 3700\n",
    "\n",
    "\n",
    "def compute_hamilton_coef(i, j):\n",
    "    r = qbits_ssh.positions[i] - qbits_ssh.positions[j]\n",
    "    d = np.linalg.norm(r)\n",
    "    r /= d\n",
    "    cos_theta = np.dot(r, magnetic_field)\n",
    "    return c3 * (1 - 3 * cos_theta**2) / d**3\n",
    "\n",
    "\n",
    "couplings = [[compute_hamilton_coef(i, j) for j in range(i+1, qbits_ssh.nqbits)] for i in range(qbits_ssh.nqbits-1)]\n",
    "couplings = [j for i in couplings for j in i]\n",
    "coupling_mat = np.zeros((qbits_ssh.nqbits, qbits_ssh.nqbits))\n",
    "coupling_mat[np.triu_indices(qbits_ssh.nqbits, 1)] = couplings\n",
    "couplings\n",
    "for i in range(1, qbits_ssh.nqbits):\n",
    "    print(f\"Coupling between qbits 0 & {i}:\", coupling_mat[0, i])"
   ]
  },
  {
   "cell_type": "code",
   "execution_count": null,
   "metadata": {},
   "outputs": [],
   "source": [
    "# Let's visualize the couplings\n",
    "bonds = np.abs(coupling_mat)\n",
    "bonds /= np.max(bonds)\n",
    "qbits_ssh.draw(show_labels=True, units=\"µm\")\n",
    "for i in range(0, qbits_ssh.nqbits-1):\n",
    "    for j in range(i+1, qbits_ssh.nqbits):\n",
    "        xs_ij = qbits_ssh.positions[[i, j]]\n",
    "        plt.plot(xs_ij[:, 0], xs_ij[:, 1], c='k', alpha=bonds[i, j])"
   ]
  },
  {
   "cell_type": "code",
   "execution_count": null,
   "metadata": {},
   "outputs": [],
   "source": [
    "simple_pulse = pulser.Pulse.ConstantPulse(10, 0.0, 0.0, 0.0)\n",
    "pcalc_ssh = qse.calc.Pulser(\n",
    "    qbits=qbits_ssh,\n",
    "    amplitude=simple_pulse.amplitude,\n",
    "    detuning=simple_pulse.detuning,\n",
    "    channel=\"mw_global\",\n",
    "    magnetic_field=magnetic_field,\n",
    ")\n",
    "pcalc_ssh.build_sequence()\n",
    "pcalc_ssh.calculate()"
   ]
  },
  {
   "cell_type": "code",
   "execution_count": null,
   "metadata": {},
   "outputs": [],
   "source": [
    "ham = pcalc_ssh.sim.get_hamiltonian(0).full()"
   ]
  },
  {
   "cell_type": "code",
   "execution_count": null,
   "metadata": {},
   "outputs": [],
   "source": [
    "xs = [np.binary_repr(i, 4) for i in range(16)]\n",
    "plt.imshow(ham.real)\n",
    "# plt.xticks(range(16), xs, rotation=\"vertical\")\n",
    "# plt.yticks(range(16), xs)\n",
    "plt.colorbar()\n",
    "plt.show()"
   ]
  },
  {
   "cell_type": "code",
   "execution_count": null,
   "metadata": {},
   "outputs": [],
   "source": []
  },
  {
   "cell_type": "code",
   "execution_count": null,
   "metadata": {},
   "outputs": [],
   "source": []
  },
  {
   "cell_type": "code",
   "execution_count": null,
   "metadata": {},
   "outputs": [],
   "source": []
  },
  {
   "cell_type": "code",
   "execution_count": null,
   "metadata": {},
   "outputs": [],
   "source": [
    "lattice_spacing = 12\n",
    "repeats = 4\n",
    "\n",
    "qbits1 = qse.lattices.chain(lattice_spacing=lattice_spacing, repeats=repeats)\n",
    "qbits1.labels = [f\"A{i}\" for i in range(repeats)]\n",
    "\n",
    "qbits2 = qse.lattices.chain(lattice_spacing=lattice_spacing, repeats=repeats)\n",
    "qbits2.labels = [f\"B{i}\" for i in range(repeats)]\n",
    "qbits2.translate((lattice_spacing * 0.5, 8, 0))\n",
    "\n",
    "qbits_trivial = qbits1 + qbits2\n",
    "qbits_trivial.rotate(90 - 54.7)\n",
    "\n",
    "qbits_trivial.draw(show_labels=True, units=\"µm\")"
   ]
  },
  {
   "cell_type": "code",
   "execution_count": null,
   "metadata": {},
   "outputs": [],
   "source": [
    "lattice_spacing = 12\n",
    "repeats = 4\n",
    "\n",
    "qbits1 = qse.lattices.chain(lattice_spacing=lattice_spacing, repeats=repeats)\n",
    "qbits1.labels = [f\"A{i}\" for i in range(repeats)]\n",
    "\n",
    "qbits2 = qse.lattices.chain(lattice_spacing=lattice_spacing, repeats=repeats)\n",
    "qbits2.labels = [f\"B{i}\" for i in range(repeats)]\n",
    "qbits2.translate((-lattice_spacing * 0.5, 8, 0))\n",
    "\n",
    "qbits_topological = qbits1 + qbits2\n",
    "qbits_topological.rotate(90 - 54.7)\n",
    "\n",
    "qbits_topological.draw(show_labels=True, units=\"µm\")"
   ]
  },
  {
   "cell_type": "code",
   "execution_count": null,
   "metadata": {},
   "outputs": [],
   "source": [
    "t_rise = 1200  # ns\n",
    "t_sweep = 1200  # ns\n",
    "t_fall = 1200  # ns\n",
    "\n",
    "# up ramp, constant, downramp waveform\n",
    "omega_max = 1.8 * 2 * np.pi  # rad/µs\n",
    "\n",
    "amplitude_afm = pulser.CompositeWaveform(\n",
    "    pulser.waveforms.RampWaveform(t_rise, 0.0, omega_max),\n",
    "    pulser.waveforms.ConstantWaveform(t_sweep, omega_max),\n",
    "    pulser.waveforms.RampWaveform(t_fall, omega_max, 0.0),\n",
    ")\n",
    "\n",
    "\n",
    "delta_0 = -4.5 * 2 * np.pi  # rad/µs\n",
    "delta_f = 3.5 * 2 * np.pi  # rad/µs\n",
    "\n",
    "# corresponding waveform for detuning\n",
    "detuning_afm = pulser.CompositeWaveform(\n",
    "    pulser.waveforms.ConstantWaveform(t_rise, delta_0),\n",
    "    pulser.waveforms.RampWaveform(t_sweep, delta_0, delta_f),\n",
    "    pulser.waveforms.ConstantWaveform(t_fall, delta_f),\n",
    ")"
   ]
  },
  {
   "cell_type": "code",
   "execution_count": null,
   "metadata": {},
   "outputs": [],
   "source": [
    "pulser.Pulse(amplitude=amplitude_afm, detuning=detuning_afm, phase=0.0).draw()"
   ]
  },
  {
   "cell_type": "code",
   "execution_count": null,
   "metadata": {},
   "outputs": [],
   "source": [
    "pcalc_trivial = qse.calc.Pulser(\n",
    "    qbits=qbits_trivial,\n",
    "    amplitude=amplitude_afm,\n",
    "    detuning=detuning_afm,\n",
    "    channel=\"mw_global\",\n",
    "    magnetic_field=np.array(\n",
    "        [0.0, 1.0, 0.0],\n",
    "    ),\n",
    ")\n",
    "pcalc_trivial.build_sequence()\n",
    "pcalc_trivial.calculate()\n",
    "\n",
    "pcalc_topological = qse.calc.Pulser(\n",
    "    qbits=qbits_topological,\n",
    "    amplitude=amplitude_afm,\n",
    "    detuning=detuning_afm,\n",
    "    channel=\"mw_global\",\n",
    "    magnetic_field=np.array(\n",
    "        [0.0, 1.0, 0.0],\n",
    "    ),\n",
    ")\n",
    "pcalc_topological.build_sequence()\n",
    "pcalc_topological.calculate()"
   ]
  },
  {
   "cell_type": "code",
   "execution_count": null,
   "metadata": {},
   "outputs": [],
   "source": [
    "pcalc_topological.sim.get_hamiltonian(0)"
   ]
  },
  {
   "cell_type": "code",
   "execution_count": null,
   "metadata": {},
   "outputs": [],
   "source": []
  },
  {
   "cell_type": "code",
   "execution_count": null,
   "metadata": {},
   "outputs": [],
   "source": [
    "occupations_trivial = qse.magnetic.get_number_operator(\n",
    "    statevector=pcalc_trivial.statevector, nqbits=qbits_trivial.nqbits\n",
    ")\n",
    "\n",
    "occupations_topological = qse.magnetic.get_number_operator(\n",
    "    statevector=pcalc_topological.statevector, nqbits=qbits_topological.nqbits\n",
    ")"
   ]
  },
  {
   "cell_type": "code",
   "execution_count": null,
   "metadata": {},
   "outputs": [],
   "source": [
    "xs = np.arange(qbits_trivial.nqbits)\n",
    "width = 0.4\n",
    "\n",
    "plt.bar(xs - width * 0.5, occupations_trivial, width=width, label=\"trivial\")\n",
    "plt.bar(xs + width * 0.5, occupations_topological, width=width, label=\"topological\")\n",
    "\n",
    "plt.legend()\n",
    "plt.xticks(xs, qbits_trivial.labels)\n",
    "plt.xlabel(\"Qbit\")\n",
    "plt.ylabel(\"Occupation\")\n",
    "plt.show()"
   ]
  }
 ],
 "metadata": {
  "kernelspec": {
   "display_name": "qse",
   "language": "python",
   "name": "python3"
  },
  "language_info": {
   "codemirror_mode": {
    "name": "ipython",
    "version": 3
   },
   "file_extension": ".py",
   "mimetype": "text/x-python",
   "name": "python",
   "nbconvert_exporter": "python",
   "pygments_lexer": "ipython3",
   "version": "3.11.11"
  }
 },
 "nbformat": 4,
 "nbformat_minor": 2
}
