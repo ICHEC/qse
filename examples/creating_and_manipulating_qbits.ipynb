{
 "cells": [
  {
   "cell_type": "markdown",
   "metadata": {},
   "source": [
    "# Creating and manipulating Qbits\n",
    "\n",
    "We should show how to:\n",
    "- Create Qbits\n",
    "- How Qbits can be added\n",
    "- Rotate\n",
    "- Center\n",
    "- Translate"
   ]
  },
  {
   "cell_type": "code",
   "execution_count": 1,
   "metadata": {},
   "outputs": [],
   "source": [
    "import qse\n",
    "import numpy as np"
   ]
  },
  {
   "cell_type": "markdown",
   "metadata": {},
   "source": [
    "## 1. Create Qbits.\n",
    "\n",
    "A Qbits object can represent : \n",
    "\n",
    "- An isolated molecule.\n",
    "- A repeated structure. \n",
    "\n",
    "Let's see examples creating qbits objects for different molecules and crystals in to get a better understanding of its behaviour.\n"
   ]
  },
  {
   "cell_type": "markdown",
   "metadata": {},
   "source": [
    "### 1.1. Create Qbits object for $H_{2}O$ molecule.\n",
    "\n",
    "The first way of creating a molecule or a crystal is by specifying the positions of their qubits in the cartesian coordinate system. With the labels parameter we are assigning a label to each atom. \n"
   ]
  },
  {
   "cell_type": "code",
   "execution_count": 2,
   "metadata": {},
   "outputs": [],
   "source": [
    "h_1_coordinates = np.array([[0.76, 0, 0.58]])\n",
    "h_2_coordinates = np.array([[-0.76, 0, 0.58]])\n",
    "o_coordinates = np.array([[0, 0, 0]])\n",
    "h2o_positions = np.concatenate(\n",
    "    (\n",
    "    h_1_coordinates,\n",
    "    h_2_coordinates,\n",
    "    o_coordinates\n",
    "    ),\n",
    "    axis = 0\n",
    ")\n",
    "\n",
    "labels = ['H', 'H', 'O']\n",
    "\n",
    "h2o = qse.Qbits(\n",
    "    positions = h2o_positions,\n",
    "    labels = labels\n",
    ")\n",
    "\n"
   ]
  },
  {
   "cell_type": "markdown",
   "metadata": {},
   "source": [
    "### 1.2. Create Qbits object for $CsCl$.\n",
    "\n",
    "We can also create a qbit by inputting the unit cell coordinates. For the $CsCl$ the cell is cubic. The scaled positions are the position of the atoms, given in units of the unit cell. \n"
   ]
  },
  {
   "cell_type": "code",
   "execution_count": 3,
   "metadata": {},
   "outputs": [],
   "source": [
    "cell= np.array([\n",
    "    [4.994, 0, 0], [0, 4.994, 0], [0, 0, 4.994]\n",
    "    ]\n",
    ")\n",
    "scaled_positions = np.array([\n",
    "    [0.0, 0.0, 0.0], [0.5, 0.5, 0.5]\n",
    "    ]\n",
    ")\n",
    "labels = ['Cs', 'Cl']\n",
    "\n",
    "cscl = qse.Qbits(\n",
    "    cell = cell,\n",
    "    scaled_positions = scaled_positions\n",
    ")\n",
    "cscl_positions = cscl.get_positions()\n"
   ]
  },
  {
   "cell_type": "markdown",
   "metadata": {},
   "source": [
    "### 1.3. Create Qbits object for $Bi_{2}O_{3}$. \n",
    "\n",
    "We can use the lattice vectors $a_1$, $a_2$, $a_3$ and the angles  $\\alpha\\angle a_2a_3$ ,  $\\beta\\angle a_1a_3$ , $\\gamma\\angle a_1a_2$, to define our cell instead of its coordinates as we did before. For $Bi_{2}O_{3}$ we have that: \n",
    "\n",
    "$\\alpha = \\gamma = 90°, \\beta = 112.48$, $a_1 = 5.87A$, $a_2 = 8.12A$, $a_3 = 7.45A$\n",
    "\n",
    "\n",
    "\n",
    "\n"
   ]
  },
  {
   "cell_type": "code",
   "execution_count": 4,
   "metadata": {},
   "outputs": [],
   "source": [
    "a1 = 5.87\n",
    "a2 = 8.12\n",
    "a3 = 7.45\n",
    "alpha = 90.00 \n",
    "beta = 112.48\n",
    "gamma = 90.00\n",
    "cell = [a1,a2,a3, alpha,beta, gamma]\n",
    "bi_1 = [0.46, 0.54, 0.22]\n",
    "bi_2 = [0.98, 0.69, 0.63]\n",
    "o_1 = [0.23, 0.53, 0.49]\n",
    "o_2 = [0.26, 0.55, 0.88]\n",
    "o_3 = [0.72, 0.70, 0.79]\n",
    "mn = [0.33, 0.66, 0.25]\n",
    "scaled_positions = np.array([bi_1, bi_2, o_1, o_2, o_3])\n",
    "bi2o3 = qse.Qbits(cell=cell, scaled_positions=scaled_positions)\n",
    "bi2o3_positions = bi2o3.get_positions()\n"
   ]
  },
  {
   "cell_type": "markdown",
   "metadata": {},
   "source": [
    "### 1.4. Create Qbits object out of single Qbit objects.\n",
    "\n",
    "We can use the _extend()_ Qbits function to create a Qbits object out of single Qbit objects. An example for the $H_2O$ molecule is shown below. \n",
    "\n"
   ]
  },
  {
   "cell_type": "code",
   "execution_count": 5,
   "metadata": {},
   "outputs": [],
   "source": [
    "h_1_coordinates = np.array([0.76, 0, 0.58])\n",
    "h_2_coordinates = np.array([-0.76, 0, 0.58])\n",
    "o_coordinates = np.array([0, 0, 0])\n",
    "h_1_qbit = qse.Qbit(position = h_1_coordinates)\n",
    "h_2_qbit = qse.Qbit(position = h_2_coordinates)\n",
    "o_qbit = qse.Qbit(position = o_coordinates)\n",
    "h2o = qse.Qbits()\n",
    "h2o.extend(h_1_qbit)\n",
    "h2o.extend(h_2_qbit)\n",
    "h2o.extend(o_qbit)"
   ]
  },
  {
   "cell_type": "markdown",
   "metadata": {},
   "source": [
    "## 2. Qbits object methods."
   ]
  },
  {
   "cell_type": "markdown",
   "metadata": {},
   "source": [
    "### 2.1. Translate the qbits positions. \n",
    "\n",
    "Method that allow to perform a translation on the qbits positions. A single float or a np array can be passed to the function."
   ]
  },
  {
   "cell_type": "code",
   "execution_count": 6,
   "metadata": {},
   "outputs": [
    {
     "name": "stdout",
     "output_type": "stream",
     "text": [
      "h2O Positions before translation:  \n",
      " [[ 0.76  0.    0.58]\n",
      " [-0.76  0.    0.58]\n",
      " [ 0.    0.    0.  ]]\n",
      "h2O Positions after translation:  \n",
      " [[ 1.76  0.    0.58]\n",
      " [-0.76  4.    2.58]\n",
      " [ 0.    0.    0.  ]]\n"
     ]
    }
   ],
   "source": [
    "print('h2O Positions before translation: ','\\n', h2o.positions)\n",
    "h2o.translate(np.array([\n",
    "    [1.0, 0.0, 0.0],\n",
    "    [0.0, 4.0, 2.0],\n",
    "    [0.0, 0.0, 0.0]\n",
    "]))\n",
    "print('h2O Positions after translation: ','\\n', h2o.positions)\n",
    "h2o.set_positions(h2o_positions)"
   ]
  },
  {
   "cell_type": "code",
   "execution_count": 34,
   "metadata": {},
   "outputs": [
    {
     "name": "stdout",
     "output_type": "stream",
     "text": [
      "crank = 0, prank = 2\n",
      "rcut is 20\n"
     ]
    },
    {
     "data": {
      "image/png": "[encoded data removed]",
      "text/plain": [
       "<Figure size 640x480 with 1 Axes>"
      ]
     },
     "metadata": {},
     "output_type": "display_data"
    }
   ],
   "source": [
    "h2o.draw(radius=20)"
   ]
  },
  {
   "cell_type": "code",
   "execution_count": 37,
   "metadata": {},
   "outputs": [
    {
     "name": "stdout",
     "output_type": "stream",
     "text": [
      "crank = 3, prank = 1\n",
      "rcut is 20\n"
     ]
    },
    {
     "data": {
      "image/png": "[encoded data removed]",
      "text/plain": [
       "<Figure size 640x480 with 1 Axes>"
      ]
     },
     "metadata": {},
     "output_type": "display_data"
    }
   ],
   "source": [
    "cscl.repeat(rep=5)\n",
    "cscl.draw(radius=20)"
   ]
  },
  {
   "cell_type": "code",
   "execution_count": 33,
   "metadata": {},
   "outputs": [
    {
     "name": "stdout",
     "output_type": "stream",
     "text": [
      "crank = 3, prank = 3\n",
      "rcut is 12\n"
     ]
    },
    {
     "data": {
      "image/png": "[encoded data removed]",
      "text/plain": [
       "<Figure size 640x480 with 1 Axes>"
      ]
     },
     "metadata": {},
     "output_type": "display_data"
    }
   ],
   "source": [
    "bi2o3.draw(radius=12)"
   ]
  },
  {
   "cell_type": "code",
   "execution_count": 30,
   "metadata": {},
   "outputs": [
    {
     "name": "stdout",
     "output_type": "stream",
     "text": [
      "Positions :  \n",
      " [[ 0.76  0.    0.58]\n",
      " [-0.76  0.    0.58]\n",
      " [ 0.    0.    0.  ]] \n",
      "\n",
      "\n",
      "rij :  \n",
      " [[0.         1.52       0.95603347]\n",
      " [1.52       0.         0.95603347]\n",
      " [0.95603347 0.95603347 0.        ]] \n",
      "\n",
      "\n",
      "ib :  \n",
      " [[False  True  True]\n",
      " [ True False  True]\n",
      " [ True  True False]] \n",
      "\n",
      "\n",
      "rcut :  \n",
      " 0.9560334722173696 \n",
      "\n",
      "\n",
      "nns :  \n",
      " [[False False  True]\n",
      " [False False  True]\n",
      " [ True  True False]] \n",
      "\n",
      "ii :  \n",
      " [0 1 2 2] \n",
      "\n",
      "jj :  \n",
      " [2 2 0 1] \n",
      "\n",
      "X :  \n",
      " [ 0.76 -0.76  0.    0.  ] \n",
      "\n",
      "Y :  \n",
      " [0. 0. 0. 0.] \n",
      "\n",
      "Z :  \n",
      " [0.58 0.58 0.   0.  ] \n",
      "\n",
      "U :  \n",
      " [-0.76  0.76  0.76 -0.76] \n",
      "\n",
      "V :  \n",
      " [0. 0. 0. 0.] \n",
      "\n",
      "W :  \n",
      " [-0.58 -0.58  0.58  0.58] \n",
      "\n",
      "C :  \n",
      " [1. 1. 1. 1.] \n",
      "\n"
     ]
    }
   ],
   "source": [
    "positions = h2o.positions.copy()\n",
    "print('Positions : ','\\n', positions, '\\n\\n')\n",
    "x, y, z = positions.T \n",
    "rij = h2o.get_all_distances()\n",
    "print('rij : ','\\n', rij, '\\n\\n')\n",
    "ib = np.logical_not(np.eye(h2o.nqbits, dtype=bool))\n",
    "print('ib : ', '\\n', ib, '\\n\\n')\n",
    "rcut = rij[ib].min()\n",
    "print('rcut : ', '\\n', rcut, '\\n\\n')\n",
    "nns = rij <= rcut \n",
    "np.fill_diagonal(nns, False)\n",
    "print('nns : ', '\\n', nns, '\\n')\n",
    "ii, jj = np.where(nns)\n",
    "print('ii : ', '\\n', ii, '\\n')\n",
    "print('jj : ', '\\n', jj, '\\n')\n",
    "X, Y, Z = positions[ii].T\n",
    "U, V, W = (positions[jj] - positions[ii]).T\n",
    "C = rij[nns]\n",
    "C = C / C.min()\n",
    "print('X : ', '\\n', X, '\\n')\n",
    "print('Y : ', '\\n', Y, '\\n')\n",
    "print('Z : ', '\\n', Z, '\\n')\n",
    "print('U : ', '\\n', U, '\\n')\n",
    "print('V : ', '\\n', V, '\\n')\n",
    "print('W : ', '\\n', W, '\\n')\n",
    "print('C : ', '\\n', C, '\\n')\n"
   ]
  },
  {
   "cell_type": "code",
   "execution_count": null,
   "metadata": {},
   "outputs": [],
   "source": [
    "a = np.array([\n",
    "    False, True\n",
    "])"
   ]
  },
  {
   "cell_type": "markdown",
   "metadata": {},
   "source": [
    "### 2.2. Center qbits in unit cell. \n",
    "\n",
    "Centers the qubits in the unit cell. Using the parameters _vacuum_ and _axis_, we can specify the amount of vacuum left when centering and the axes to act on. "
   ]
  },
  {
   "cell_type": "code",
   "execution_count": null,
   "metadata": {},
   "outputs": [
    {
     "name": "stdout",
     "output_type": "stream",
     "text": [
      "CsCl Positions before centering:  \n",
      " [[0.    0.    0.   ]\n",
      " [2.497 2.497 2.497]]\n",
      "CsCl Positions after centering:  \n",
      " [[10.     0.    10.   ]\n",
      " [12.497  2.497 12.497]]\n"
     ]
    }
   ],
   "source": [
    "print('CsCl Positions before centering: ','\\n', cscl.positions)\n",
    "cscl.center_in_unit_cell(vacuum = 10, axis = (0,2))\n",
    "print('CsCl Positions after centering: ','\\n', cscl.positions)\n",
    "cscl.set_positions(cscl_positions)"
   ]
  },
  {
   "cell_type": "markdown",
   "metadata": {},
   "source": [
    "### 2.3. Get and set centroid.\n",
    "\n",
    "Allows to get the centroid of the positions of the atoms. When setting a new centroid, the positions of the atoms will be modified accordingly. The _scaled_ parameter allows us to decide wether we are setting the centroid in scaled positions or not. "
   ]
  },
  {
   "cell_type": "code",
   "execution_count": null,
   "metadata": {},
   "outputs": [
    {
     "name": "stdout",
     "output_type": "stream",
     "text": [
      "Bi2O3 centroid:  \n",
      " [1.39624954 4.88824    4.14410616]\n",
      "Bi2O3 positions before setting new centroid:  \n",
      " [[ 2.07351046  4.3848      1.5144574 ]\n",
      " [ 3.95798905  5.6028      4.33685529]\n",
      " [-0.04570852  4.3036      3.37310967]\n",
      " [-0.98055815  4.466       6.05782961]\n",
      " [ 1.97601484  5.684       5.43827885]]\n",
      "Bi2O3 positions after changing centroid:  \n",
      " [[ 0.67726093 -0.50344    -2.62964876]\n",
      " [ 2.56173951  0.71456     0.19274912]\n",
      " [-1.44195805 -0.58464    -0.7709965 ]\n",
      " [-2.37680769 -0.42224     1.91372344]\n",
      " [ 0.5797653   0.79576     1.29417269]]\n"
     ]
    }
   ],
   "source": [
    "print('Bi2O3 centroid: ', '\\n', bi2o3.get_centroid())\n",
    "print('Bi2O3 positions before setting new centroid: ', '\\n', bi2o3.get_positions())\n",
    "bi2o3.set_centroid(\n",
    "    ([\n",
    "        [0.0, 0.0, 0.0]\n",
    "    ]),\n",
    "    scaled= True\n",
    ")\n",
    "print('Bi2O3 positions after changing centroid: ', '\\n', bi2o3.get_positions())\n",
    "bi2o3.set_positions(bi2o3_positions)"
   ]
  },
  {
   "cell_type": "markdown",
   "metadata": {},
   "source": []
  }
 ],
 "metadata": {
  "kernelspec": {
   "display_name": "env_qse",
   "language": "python",
   "name": "python3"
  },
  "language_info": {
   "codemirror_mode": {
    "name": "ipython",
    "version": 3
   },
   "file_extension": ".py",
   "mimetype": "text/x-python",
   "name": "python",
   "nbconvert_exporter": "python",
   "pygments_lexer": "ipython3",
   "version": "3.12.11"
  }
 },
 "nbformat": 4,
 "nbformat_minor": 2
}
