{
 "cells": [
  {
   "cell_type": "code",
   "execution_count": 1,
   "metadata": {},
   "outputs": [],
   "source": [
    "import qse\n",
    "import numpy as np"
   ]
  },
  {
   "cell_type": "code",
   "execution_count": 4,
   "metadata": {},
   "outputs": [],
   "source": [
    "x = qse.Qbits(\n",
    "    positions=np.array(\n",
    "        [\n",
    "            [1., 0., 0.],\n",
    "            [0., 0., 0.],\n",
    "            [0., 1., 0.],\n",
    "            ]\n",
    "        ), \n",
    "    )"
   ]
  },
  {
   "cell_type": "code",
   "execution_count": 20,
   "metadata": {},
   "outputs": [
    {
     "data": {
      "text/plain": [
       "array([Qbit(label='2', position=[0.0, 1.0, 0.0], state=[0j, (1+0j)], index=2),\n",
       "       Qbit(label='2', position=[0.0, 1.0, 0.0], state=[0j, (1+0j)], index=2)],\n",
       "      dtype=object)"
      ]
     },
     "execution_count": 20,
     "metadata": {},
     "output_type": "execute_result"
    }
   ],
   "source": [
    "indices = np.array([[x[0], x[1], x[2]], [x[0], x[1], x[2]]])\n",
    "indices[:, 2]"
   ]
  },
  {
   "cell_type": "code",
   "execution_count": null,
   "metadata": {},
   "outputs": [
    {
     "ename": "IndexError",
     "evalue": "arrays used as indices must be of integer (or boolean) type",
     "output_type": "error",
     "traceback": [
      "\u001b[31m---------------------------------------------------------------------------\u001b[39m",
      "\u001b[31mIndexError\u001b[39m                                Traceback (most recent call last)",
      "\u001b[36mCell\u001b[39m\u001b[36m \u001b[39m\u001b[32mIn[13]\u001b[39m\u001b[32m, line 1\u001b[39m\n\u001b[32m----> \u001b[39m\u001b[32m1\u001b[39m \u001b[43mx\u001b[49m\u001b[43m.\u001b[49m\u001b[43mget_angle\u001b[49m\u001b[43m(\u001b[49m\u001b[43mx\u001b[49m\u001b[43m[\u001b[49m\u001b[32;43m0\u001b[39;49m\u001b[43m]\u001b[49m\u001b[43m,\u001b[49m\u001b[43m \u001b[49m\u001b[43mx\u001b[49m\u001b[43m[\u001b[49m\u001b[32;43m1\u001b[39;49m\u001b[43m]\u001b[49m\u001b[43m,\u001b[49m\u001b[43m \u001b[49m\u001b[43mx\u001b[49m\u001b[43m[\u001b[49m\u001b[32;43m2\u001b[39;49m\u001b[43m]\u001b[49m\u001b[43m)\u001b[49m\n",
      "\u001b[36mFile \u001b[39m\u001b[32m~/qse/qse/qbits.py:1234\u001b[39m, in \u001b[36mQbits.get_angle\u001b[39m\u001b[34m(self, index_1, index_2, index_3, mic)\u001b[39m\n\u001b[32m   1213\u001b[39m \u001b[38;5;28;01mdef\u001b[39;00m\u001b[38;5;250m \u001b[39m\u001b[34mget_angle\u001b[39m(\u001b[38;5;28mself\u001b[39m, index_1: \u001b[38;5;28mint\u001b[39m, index_2: \u001b[38;5;28mint\u001b[39m, index_3: \u001b[38;5;28mint\u001b[39m, mic: \u001b[38;5;28mbool\u001b[39m = \u001b[38;5;28;01mFalse\u001b[39;00m):\n\u001b[32m   1214\u001b[39m \u001b[38;5;250m    \u001b[39m\u001b[33;03m\"\"\"\u001b[39;00m\n\u001b[32m   1215\u001b[39m \u001b[33;03m    Get the angle in degress formed by three qbits.\u001b[39;00m\n\u001b[32m   1216\u001b[39m \n\u001b[32m   (...)\u001b[39m\u001b[32m   1232\u001b[39m \u001b[33;03m    qubits. Then we calcule the angle between x1-x2 and x3-x2.\u001b[39;00m\n\u001b[32m   1233\u001b[39m \u001b[33;03m    \"\"\"\u001b[39;00m\n\u001b[32m-> \u001b[39m\u001b[32m1234\u001b[39m     \u001b[38;5;28;01mreturn\u001b[39;00m \u001b[38;5;28;43mself\u001b[39;49m\u001b[43m.\u001b[49m\u001b[43mget_angles\u001b[49m\u001b[43m(\u001b[49m\u001b[43m[\u001b[49m\u001b[43m[\u001b[49m\u001b[43mindex_1\u001b[49m\u001b[43m,\u001b[49m\u001b[43m \u001b[49m\u001b[43mindex_2\u001b[49m\u001b[43m,\u001b[49m\u001b[43m \u001b[49m\u001b[43mindex_3\u001b[49m\u001b[43m]\u001b[49m\u001b[43m]\u001b[49m\u001b[43m,\u001b[49m\u001b[43m \u001b[49m\u001b[43mmic\u001b[49m\u001b[43m=\u001b[49m\u001b[43mmic\u001b[49m\u001b[43m)\u001b[49m[\u001b[32m0\u001b[39m]\n",
      "\u001b[36mFile \u001b[39m\u001b[32m~/qse/qse/qbits.py:1249\u001b[39m, in \u001b[36mQbits.get_angles\u001b[39m\u001b[34m(self, indices, mic)\u001b[39m\n\u001b[32m   1246\u001b[39m indices = np.array(indices)\n\u001b[32m   1247\u001b[39m \u001b[38;5;28;01massert\u001b[39;00m indices.shape[\u001b[32m1\u001b[39m] == \u001b[32m3\u001b[39m\n\u001b[32m-> \u001b[39m\u001b[32m1249\u001b[39m a1s = \u001b[38;5;28;43mself\u001b[39;49m\u001b[43m.\u001b[49m\u001b[43mpositions\u001b[49m\u001b[43m[\u001b[49m\u001b[43mindices\u001b[49m\u001b[43m[\u001b[49m\u001b[43m:\u001b[49m\u001b[43m,\u001b[49m\u001b[43m \u001b[49m\u001b[32;43m0\u001b[39;49m\u001b[43m]\u001b[49m\u001b[43m]\u001b[49m\n\u001b[32m   1250\u001b[39m a2s = \u001b[38;5;28mself\u001b[39m.positions[indices[:, \u001b[32m1\u001b[39m]]\n\u001b[32m   1251\u001b[39m a3s = \u001b[38;5;28mself\u001b[39m.positions[indices[:, \u001b[32m2\u001b[39m]]\n",
      "\u001b[31mIndexError\u001b[39m: arrays used as indices must be of integer (or boolean) type"
     ]
    }
   ],
   "source": [
    "#x.get_angle(x[0], x[1], x[2])"
   ]
  },
  {
   "cell_type": "code",
   "execution_count": 12,
   "metadata": {},
   "outputs": [
    {
     "data": {
      "text/plain": [
       "np.float64(90.0)"
      ]
     },
     "execution_count": 12,
     "metadata": {},
     "output_type": "execute_result"
    }
   ],
   "source": [
    "x.get_angle(0, 1, 2)"
   ]
  },
  {
   "cell_type": "code",
   "execution_count": 11,
   "metadata": {},
   "outputs": [
    {
     "data": {
      "text/plain": [
       "array([90.])"
      ]
     },
     "execution_count": 11,
     "metadata": {},
     "output_type": "execute_result"
    }
   ],
   "source": [
    "x.get_angles([[0, 1, 2]])"
   ]
  },
  {
   "cell_type": "code",
   "execution_count": null,
   "metadata": {},
   "outputs": [
    {
     "name": "stdout",
     "output_type": "stream",
     "text": [
      "Qbits(\n",
      " Qbit(label='0', position=[1.0, 1.0, 0.0], state=[0j, (1+0j)], index=0),\n",
      " Qbit(label='1', position=[1.0, -1.0, 0.0], state=[0j, (1+0j)], index=1),\n",
      " Qbit(label='2', position=[-1.0, 1.0, 0.0], state=[0j, (1+0j)], index=2),\n",
      " Qbit(label='3', position=[-1.0, 1.0, 0.0], state=[0j, (1+0j)], index=3),\n",
      " pbc=False,\n",
      "...)\n"
     ]
    }
   ],
   "source": [
    "square_centered = np.array([[1., 1., 0.], [1., -1., 0.], [-1., 1., 0.], [-1., -1., 0.]])\n",
    "qbits = qse.Qbits(positions=square_centered)\n",
    "print(qbits)"
   ]
  },
  {
   "cell_type": "code",
   "execution_count": 11,
   "metadata": {},
   "outputs": [
    {
     "name": "stdout",
     "output_type": "stream",
     "text": [
      "Qbits(\n",
      " Qbit(label='0', position=[-0.9999999999999999, 1.0, 0.0], state=[0j, (1+0j)], index=0),\n",
      " Qbit(label='1', position=[1.0, 0.9999999999999999, 0.0], state=[0j, (1+0j)], index=1),\n",
      " Qbit(label='2', position=[-1.0, -0.9999999999999999, 0.0], state=[0j, (1+0j)], index=2),\n",
      " Qbit(label='3', position=[-1.0, -0.9999999999999999, 0.0], state=[0j, (1+0j)], index=3),\n",
      " pbc=False,\n",
      "...)\n"
     ]
    }
   ],
   "source": [
    "qbits.rotate(90, \"z\")\n",
    "print(qbits)"
   ]
  },
  {
   "cell_type": "code",
   "execution_count": null,
   "metadata": {},
   "outputs": [],
   "source": []
  },
  {
   "cell_type": "code",
   "execution_count": null,
   "metadata": {},
   "outputs": [],
   "source": []
  },
  {
   "cell_type": "code",
   "execution_count": 21,
   "metadata": {},
   "outputs": [],
   "source": [
    "import ase"
   ]
  },
  {
   "cell_type": "code",
   "execution_count": 22,
   "metadata": {},
   "outputs": [],
   "source": [
    "atoms = ase.Atoms(positions=np.array([[1., 0., 0.], [0., 0., 0.], [0., 1., 0.]]))"
   ]
  },
  {
   "cell_type": "code",
   "execution_count": 24,
   "metadata": {},
   "outputs": [
    {
     "data": {
      "text/plain": [
       "np.float64(90.0)"
      ]
     },
     "execution_count": 24,
     "metadata": {},
     "output_type": "execute_result"
    }
   ],
   "source": [
    "atoms.get_angle(0, 1, 2)"
   ]
  },
  {
   "cell_type": "code",
   "execution_count": 26,
   "metadata": {},
   "outputs": [
    {
     "ename": "IndexError",
     "evalue": "arrays used as indices must be of integer (or boolean) type",
     "output_type": "error",
     "traceback": [
      "\u001b[31m---------------------------------------------------------------------------\u001b[39m",
      "\u001b[31mIndexError\u001b[39m                                Traceback (most recent call last)",
      "\u001b[36mCell\u001b[39m\u001b[36m \u001b[39m\u001b[32mIn[26]\u001b[39m\u001b[32m, line 1\u001b[39m\n\u001b[32m----> \u001b[39m\u001b[32m1\u001b[39m \u001b[43matoms\u001b[49m\u001b[43m.\u001b[49m\u001b[43mget_angle\u001b[49m\u001b[43m(\u001b[49m\u001b[43matoms\u001b[49m\u001b[43m[\u001b[49m\u001b[32;43m0\u001b[39;49m\u001b[43m]\u001b[49m\u001b[43m,\u001b[49m\u001b[43m \u001b[49m\u001b[43matoms\u001b[49m\u001b[43m[\u001b[49m\u001b[32;43m1\u001b[39;49m\u001b[43m]\u001b[49m\u001b[43m,\u001b[49m\u001b[43m \u001b[49m\u001b[43matoms\u001b[49m\u001b[43m[\u001b[49m\u001b[32;43m2\u001b[39;49m\u001b[43m]\u001b[49m\u001b[43m)\u001b[49m\n",
      "\u001b[36mFile \u001b[39m\u001b[32m~/anaconda3/envs/qse-rebuild/lib/python3.13/site-packages/ase/atoms.py:1711\u001b[39m, in \u001b[36mAtoms.get_angle\u001b[39m\u001b[34m(self, a1, a2, a3, mic)\u001b[39m\n\u001b[32m   1702\u001b[39m \u001b[38;5;28;01mdef\u001b[39;00m\u001b[38;5;250m \u001b[39m\u001b[34mget_angle\u001b[39m(\u001b[38;5;28mself\u001b[39m, a1, a2, a3, mic=\u001b[38;5;28;01mFalse\u001b[39;00m):\n\u001b[32m   1703\u001b[39m \u001b[38;5;250m    \u001b[39m\u001b[33;03m\"\"\"Get angle formed by three atoms.\u001b[39;00m\n\u001b[32m   1704\u001b[39m \n\u001b[32m   1705\u001b[39m \u001b[33;03m    Calculate angle in degrees between the vectors a2->a1 and\u001b[39;00m\n\u001b[32m   (...)\u001b[39m\u001b[32m   1709\u001b[39m \u001b[33;03m    angle across periodic boundaries.\u001b[39;00m\n\u001b[32m   1710\u001b[39m \u001b[33;03m    \"\"\"\u001b[39;00m\n\u001b[32m-> \u001b[39m\u001b[32m1711\u001b[39m     \u001b[38;5;28;01mreturn\u001b[39;00m \u001b[38;5;28;43mself\u001b[39;49m\u001b[43m.\u001b[49m\u001b[43mget_angles\u001b[49m\u001b[43m(\u001b[49m\u001b[43m[\u001b[49m\u001b[43m[\u001b[49m\u001b[43ma1\u001b[49m\u001b[43m,\u001b[49m\u001b[43m \u001b[49m\u001b[43ma2\u001b[49m\u001b[43m,\u001b[49m\u001b[43m \u001b[49m\u001b[43ma3\u001b[49m\u001b[43m]\u001b[49m\u001b[43m]\u001b[49m\u001b[43m,\u001b[49m\u001b[43m \u001b[49m\u001b[43mmic\u001b[49m\u001b[43m=\u001b[49m\u001b[43mmic\u001b[49m\u001b[43m)\u001b[49m[\u001b[32m0\u001b[39m]\n",
      "\u001b[36mFile \u001b[39m\u001b[32m~/anaconda3/envs/qse-rebuild/lib/python3.13/site-packages/ase/atoms.py:1727\u001b[39m, in \u001b[36mAtoms.get_angles\u001b[39m\u001b[34m(self, indices, mic)\u001b[39m\n\u001b[32m   1724\u001b[39m indices = np.array(indices)\n\u001b[32m   1725\u001b[39m \u001b[38;5;28;01massert\u001b[39;00m indices.shape[\u001b[32m1\u001b[39m] == \u001b[32m3\u001b[39m\n\u001b[32m-> \u001b[39m\u001b[32m1727\u001b[39m a1s = \u001b[38;5;28;43mself\u001b[39;49m\u001b[43m.\u001b[49m\u001b[43mpositions\u001b[49m\u001b[43m[\u001b[49m\u001b[43mindices\u001b[49m\u001b[43m[\u001b[49m\u001b[43m:\u001b[49m\u001b[43m,\u001b[49m\u001b[43m \u001b[49m\u001b[32;43m0\u001b[39;49m\u001b[43m]\u001b[49m\u001b[43m]\u001b[49m\n\u001b[32m   1728\u001b[39m a2s = \u001b[38;5;28mself\u001b[39m.positions[indices[:, \u001b[32m1\u001b[39m]]\n\u001b[32m   1729\u001b[39m a3s = \u001b[38;5;28mself\u001b[39m.positions[indices[:, \u001b[32m2\u001b[39m]]\n",
      "\u001b[31mIndexError\u001b[39m: arrays used as indices must be of integer (or boolean) type"
     ]
    }
   ],
   "source": [
    "atoms.get_angle(atoms[0], atoms[1], atoms[2])"
   ]
  },
  {
   "cell_type": "code",
   "execution_count": 27,
   "metadata": {},
   "outputs": [
    {
     "ename": "IndexError",
     "evalue": "arrays used as indices must be of integer (or boolean) type",
     "output_type": "error",
     "traceback": [
      "\u001b[31m---------------------------------------------------------------------------\u001b[39m",
      "\u001b[31mIndexError\u001b[39m                                Traceback (most recent call last)",
      "\u001b[36mCell\u001b[39m\u001b[36m \u001b[39m\u001b[32mIn[27]\u001b[39m\u001b[32m, line 3\u001b[39m\n\u001b[32m      1\u001b[39m \u001b[38;5;28;01mimport\u001b[39;00m\u001b[38;5;250m \u001b[39m\u001b[34;01mase\u001b[39;00m\n\u001b[32m      2\u001b[39m atoms = ase.Atoms(positions=np.array([[\u001b[32m1.\u001b[39m, \u001b[32m0.\u001b[39m, \u001b[32m0.\u001b[39m], [\u001b[32m0.\u001b[39m, \u001b[32m0.\u001b[39m, \u001b[32m0.\u001b[39m], [\u001b[32m0.\u001b[39m, \u001b[32m1.\u001b[39m, \u001b[32m0.\u001b[39m]]))\n\u001b[32m----> \u001b[39m\u001b[32m3\u001b[39m \u001b[43matoms\u001b[49m\u001b[43m.\u001b[49m\u001b[43mget_angle\u001b[49m\u001b[43m(\u001b[49m\u001b[43matoms\u001b[49m\u001b[43m[\u001b[49m\u001b[32;43m0\u001b[39;49m\u001b[43m]\u001b[49m\u001b[43m,\u001b[49m\u001b[43m \u001b[49m\u001b[43matoms\u001b[49m\u001b[43m[\u001b[49m\u001b[32;43m1\u001b[39;49m\u001b[43m]\u001b[49m\u001b[43m,\u001b[49m\u001b[43m \u001b[49m\u001b[43matoms\u001b[49m\u001b[43m[\u001b[49m\u001b[32;43m2\u001b[39;49m\u001b[43m]\u001b[49m\u001b[43m)\u001b[49m\n",
      "\u001b[36mFile \u001b[39m\u001b[32m~/anaconda3/envs/qse-rebuild/lib/python3.13/site-packages/ase/atoms.py:1711\u001b[39m, in \u001b[36mAtoms.get_angle\u001b[39m\u001b[34m(self, a1, a2, a3, mic)\u001b[39m\n\u001b[32m   1702\u001b[39m \u001b[38;5;28;01mdef\u001b[39;00m\u001b[38;5;250m \u001b[39m\u001b[34mget_angle\u001b[39m(\u001b[38;5;28mself\u001b[39m, a1, a2, a3, mic=\u001b[38;5;28;01mFalse\u001b[39;00m):\n\u001b[32m   1703\u001b[39m \u001b[38;5;250m    \u001b[39m\u001b[33;03m\"\"\"Get angle formed by three atoms.\u001b[39;00m\n\u001b[32m   1704\u001b[39m \n\u001b[32m   1705\u001b[39m \u001b[33;03m    Calculate angle in degrees between the vectors a2->a1 and\u001b[39;00m\n\u001b[32m   (...)\u001b[39m\u001b[32m   1709\u001b[39m \u001b[33;03m    angle across periodic boundaries.\u001b[39;00m\n\u001b[32m   1710\u001b[39m \u001b[33;03m    \"\"\"\u001b[39;00m\n\u001b[32m-> \u001b[39m\u001b[32m1711\u001b[39m     \u001b[38;5;28;01mreturn\u001b[39;00m \u001b[38;5;28;43mself\u001b[39;49m\u001b[43m.\u001b[49m\u001b[43mget_angles\u001b[49m\u001b[43m(\u001b[49m\u001b[43m[\u001b[49m\u001b[43m[\u001b[49m\u001b[43ma1\u001b[49m\u001b[43m,\u001b[49m\u001b[43m \u001b[49m\u001b[43ma2\u001b[49m\u001b[43m,\u001b[49m\u001b[43m \u001b[49m\u001b[43ma3\u001b[49m\u001b[43m]\u001b[49m\u001b[43m]\u001b[49m\u001b[43m,\u001b[49m\u001b[43m \u001b[49m\u001b[43mmic\u001b[49m\u001b[43m=\u001b[49m\u001b[43mmic\u001b[49m\u001b[43m)\u001b[49m[\u001b[32m0\u001b[39m]\n",
      "\u001b[36mFile \u001b[39m\u001b[32m~/anaconda3/envs/qse-rebuild/lib/python3.13/site-packages/ase/atoms.py:1727\u001b[39m, in \u001b[36mAtoms.get_angles\u001b[39m\u001b[34m(self, indices, mic)\u001b[39m\n\u001b[32m   1724\u001b[39m indices = np.array(indices)\n\u001b[32m   1725\u001b[39m \u001b[38;5;28;01massert\u001b[39;00m indices.shape[\u001b[32m1\u001b[39m] == \u001b[32m3\u001b[39m\n\u001b[32m-> \u001b[39m\u001b[32m1727\u001b[39m a1s = \u001b[38;5;28;43mself\u001b[39;49m\u001b[43m.\u001b[49m\u001b[43mpositions\u001b[49m\u001b[43m[\u001b[49m\u001b[43mindices\u001b[49m\u001b[43m[\u001b[49m\u001b[43m:\u001b[49m\u001b[43m,\u001b[49m\u001b[43m \u001b[49m\u001b[32;43m0\u001b[39;49m\u001b[43m]\u001b[49m\u001b[43m]\u001b[49m\n\u001b[32m   1728\u001b[39m a2s = \u001b[38;5;28mself\u001b[39m.positions[indices[:, \u001b[32m1\u001b[39m]]\n\u001b[32m   1729\u001b[39m a3s = \u001b[38;5;28mself\u001b[39m.positions[indices[:, \u001b[32m2\u001b[39m]]\n",
      "\u001b[31mIndexError\u001b[39m: arrays used as indices must be of integer (or boolean) type"
     ]
    }
   ],
   "source": [
    "import ase\n",
    "atoms = ase.Atoms(positions=np.array([[1., 0., 0.], [0., 0., 0.], [0., 1., 0.]]))\n",
    "atoms.get_angle(atoms[0], atoms[1], atoms[2])"
   ]
  }
 ],
 "metadata": {
  "kernelspec": {
   "display_name": "qse-rebuild",
   "language": "python",
   "name": "python3"
  },
  "language_info": {
   "codemirror_mode": {
    "name": "ipython",
    "version": 3
   },
   "file_extension": ".py",
   "mimetype": "text/x-python",
   "name": "python",
   "nbconvert_exporter": "python",
   "pygments_lexer": "ipython3",
   "version": "3.13.2"
  }
 },
 "nbformat": 4,
 "nbformat_minor": 2
}
