{
 "cells": [
  {
   "cell_type": "markdown",
   "metadata": {},
   "source": [
    "# Creating and manipulating Qbits\n",
    "\n",
    "We should show how to:\n",
    "- Create Qbits\n",
    "- How Qbits can be added\n",
    "- Rotate\n",
    "- Center\n",
    "- Translate"
   ]
  },
  {
   "cell_type": "code",
   "execution_count": 16,
   "metadata": {},
   "outputs": [],
   "source": [
    "import qse\n",
    "import numpy as np"
   ]
  },
  {
   "cell_type": "markdown",
   "metadata": {},
   "source": [
    "## 1. Create Qbits.\n",
    "\n",
    "A Qbits object can represent : \n",
    "\n",
    "- An isolated molecule.\n",
    "- A repeated structure. \n",
    "\n",
    "Let's see examples creating qbits objects for different molecules and crystals in to get a better understanding of its behaviour.\n"
   ]
  },
  {
   "cell_type": "markdown",
   "metadata": {},
   "source": [
    "### 1.1. Create qbits object for $H_{2}O$ molecule.\n",
    "\n",
    "The first way of creating a molecule or a crystal is by specifying the positions of their qubits in the cartesian coordinate system. With the labels parameter we are assigning a label to each atom. \n"
   ]
  },
  {
   "cell_type": "code",
   "execution_count": 15,
   "metadata": {},
   "outputs": [],
   "source": [
    "h_1_coordinates = np.array([[0.76, 0, 0.58]])\n",
    "h_2_coordinates = np.array([[-0.76, 0, 0.58]])\n",
    "o_coordinates = np.array([[0, 0, 0]])\n",
    "positions = np.concatenate(\n",
    "    (\n",
    "    h_1_coordinates,\n",
    "    h_2_coordinates,\n",
    "    o_coordinates\n",
    "    ),\n",
    "    axis = 0\n",
    ")\n",
    "\n",
    "labels = ['H', 'H', 'O']\n",
    "\n",
    "h2o = qse.Qbits(\n",
    "    positions = positions,\n",
    "    labels = labels\n",
    ")\n",
    "\n"
   ]
  },
  {
   "cell_type": "code",
   "execution_count": 17,
   "metadata": {},
   "outputs": [
    {
     "name": "stdout",
     "output_type": "stream",
     "text": [
      "[[0.+0.j 1.+0.j]\n",
      " [0.+0.j 1.+0.j]\n",
      " [0.+0.j 1.+0.j]]\n"
     ]
    }
   ],
   "source": [
    "states = np.zeros((positions.shape[0], 2), dtype=complex)\n",
    "states[:, 1] += 1\n",
    "print(states)"
   ]
  },
  {
   "cell_type": "markdown",
   "metadata": {},
   "source": [
    "## 1.2. Create qbits object for $CsCl$.\n",
    "\n",
    "We can also create a qbit by inputting the unit cell coordinates. For the $CsCl$ the cell is cubic. The scaled positions are the position of the atoms, given in units of the unit cell. \n"
   ]
  },
  {
   "cell_type": "code",
   "execution_count": null,
   "metadata": {},
   "outputs": [],
   "source": [
    "cell= np.array([\n",
    "    [4.994, 0, 0], [0, 4.994, 0], [0, 0, 4.994]\n",
    "    ]\n",
    ")\n",
    "scaled_positions = np.array([\n",
    "    [0.0, 0.0, 0.0], [0.5, 0.5, 0.5]\n",
    "    ]\n",
    ")\n",
    "labels = ['Cs', 'Cl']\n",
    "\n",
    "cscl_qbit = qse.Qbits(\n",
    "    cell = cell,\n",
    "    scaled_positions = scaled_positions\n",
    ")\n"
   ]
  },
  {
   "cell_type": "markdown",
   "metadata": {},
   "source": [
    "## 1.3. Create qbits object for $Bi_2O_3$. \n",
    "\n",
    "We can use the lattice vectors $a_1$, $a_2$, $a_3$ and the angles  $\\alpha\\angle a_2a_3$ ,  $\\beta\\angle a_1a_3$ , $\\gamma\\angle a_1a_2$, to define our cell instead of its coordinates as we did before. For $Bi_2O_3$ we have that: \n",
    "\n",
    "$\\alpha = \\gamma = 90°, \\beta =112.48$\n",
    "$a_1 = 5.87\\text{\\AA}$\n",
    "$a_2 = 8.12\\text{\\AA}$\n",
    "$a_3 = 7.45\\text{\\AA}$\n",
    "\n",
    "\n"
   ]
  },
  {
   "cell_type": "code",
   "execution_count": null,
   "metadata": {},
   "outputs": [],
   "source": [
    "a1 = 5.87\n",
    "a2 = 8.12\n",
    "a3 = 7.45\n",
    "alpha = 90.00 \n",
    "beta = 112.48 \n",
    "gamma = 90.00\n",
    "cell = [a1,a2,a3, alpha,beta, gamma]\n",
    "bi_1 = [0.46, 0.54, 0.22]\n",
    "bi_2 = [0.98, 0.69, 0.63]\n",
    "o_1 = [0.23, 0.53, 0.49]\n",
    "o_2 = [0.26, 0.55, 0.88]\n",
    "o_3 = [0.72, 0.70, 0.79]\n",
    "\n",
    "scaled_positions = np.array([bi_1, bi_2, o_1, o_2, o_3])\n",
    "bi2o3_qbits = qse.Qbits(cell=cell, scaled_positions=scaled_positions)\n",
    "\n"
   ]
  }
 ],
 "metadata": {
  "kernelspec": {
   "display_name": "env_qse",
   "language": "python",
   "name": "python3"
  },
  "language_info": {
   "codemirror_mode": {
    "name": "ipython",
    "version": 3
   },
   "file_extension": ".py",
   "mimetype": "text/x-python",
   "name": "python",
   "nbconvert_exporter": "python",
   "pygments_lexer": "ipython3",
   "version": "3.12.9"
  }
 },
 "nbformat": 4,
 "nbformat_minor": 2
}
