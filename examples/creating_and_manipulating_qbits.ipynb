{
 "cells": [
  {
   "cell_type": "markdown",
   "metadata": {},
   "source": [
    "# Creating and manipulating Qbits\n",
    "\n",
    "We should show how to:\n",
    "- Create Qbits\n",
    "- How Qbits can be added\n",
    "- Rotate\n",
    "- Center\n",
    "- Translate"
   ]
  },
  {
   "cell_type": "code",
   "execution_count": 1,
   "metadata": {},
   "outputs": [],
   "source": [
    "import qse\n",
    "import numpy as np"
   ]
  },
  {
   "cell_type": "code",
   "execution_count": 2,
   "metadata": {},
   "outputs": [],
   "source": [
    "qbits = qse.Qbits(\n",
    "    positions=np.array(\n",
    "        [\n",
    "            [1.0, 0.0, 0.0],\n",
    "            [0.0, 0.0, 0.0],\n",
    "            [0.0, 1.0, 0.0],\n",
    "        ]\n",
    "    ),\n",
    ")"
   ]
  },
  {
   "cell_type": "code",
   "execution_count": 3,
   "metadata": {},
   "outputs": [
    {
     "data": {
      "text/plain": [
       "np.float64(90.0)"
      ]
     },
     "execution_count": 3,
     "metadata": {},
     "output_type": "execute_result"
    }
   ],
   "source": [
    "qbits.get_angle(0, 1, 2)"
   ]
  },
  {
   "cell_type": "code",
   "execution_count": 4,
   "metadata": {},
   "outputs": [
    {
     "name": "stdout",
     "output_type": "stream",
     "text": [
      "Qbits(\n",
      " Qbit(label='0', position=[6.123233995736766e-17, 1.0, 0.0], state=[0j, (1+0j)], index=0),\n",
      " Qbit(label='1', position=[0.0, 0.0, 0.0], state=[0j, (1+0j)], index=1),\n",
      " Qbit(label='2', position=[-1.0, 6.123233995736766e-17, 0.0], state=[0j, (1+0j)], index=2),\n",
      " pbc=False,\n",
      "...)\n"
     ]
    }
   ],
   "source": [
    "qbits.rotate(90, \"z\")\n",
    "print(qbits)"
   ]
  },
  {
   "cell_type": "markdown",
   "metadata": {},
   "source": [
    "## Version"
   ]
  },
  {
   "cell_type": "code",
   "execution_count": 5,
   "metadata": {},
   "outputs": [
    {
     "name": "stdout",
     "output_type": "stream",
     "text": [
      "Python 3.13.2\n"
     ]
    }
   ],
   "source": [
    "!python --version"
   ]
  },
  {
   "cell_type": "code",
   "execution_count": 6,
   "metadata": {},
   "outputs": [
    {
     "name": "stdout",
     "output_type": "stream",
     "text": [
      "qse 0.1.1\n"
     ]
    }
   ],
   "source": [
    "print(qse.__name__, qse.__version__)"
   ]
  }
 ],
 "metadata": {
  "kernelspec": {
   "display_name": "qse-rebuild",
   "language": "python",
   "name": "python3"
  },
  "language_info": {
   "codemirror_mode": {
    "name": "ipython",
    "version": 3
   },
   "file_extension": ".py",
   "mimetype": "text/x-python",
   "name": "python",
   "nbconvert_exporter": "python",
   "pygments_lexer": "ipython3",
   "version": "3.13.2"
  }
 },
 "nbformat": 4,
 "nbformat_minor": 2
}
