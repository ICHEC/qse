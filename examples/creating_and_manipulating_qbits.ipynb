{
 "cells": [
  {
   "cell_type": "markdown",
   "metadata": {},
   "source": [
    "# Creating and manipulating Qbits\n",
    "\n",
    "We should show how to:\n",
    "- Create Qbits\n",
    "- How Qbits can be added\n",
    "- Rotate\n",
    "- Center\n",
    "- Translate"
   ]
  },
  {
   "cell_type": "code",
   "execution_count": 2,
   "metadata": {},
   "outputs": [
    {
     "name": "stdout",
     "output_type": "stream",
     "text": [
      "qat is not available\n",
      "qlmaas is not available\n",
      "None\n"
     ]
    }
   ],
   "source": [
    "import qse\n",
    "import numpy as np"
   ]
  },
  {
   "cell_type": "markdown",
   "metadata": {},
   "source": [
    "## 1. Create Qbits.\n",
    "\n",
    "A Qbits object can represent : \n",
    "\n",
    "- An isolated molecule.\n",
    "- A repeated structure. \n",
    "\n",
    "Let's see examples creating qbits objects for different molecules and crystals in to get a better understanding of its behaviour.\n"
   ]
  },
  {
   "cell_type": "markdown",
   "metadata": {},
   "source": [
    "### 1.1. Create qbits object for $H_{2}O$ molecule.\n",
    "\n",
    "The first way of creating a molecule or a crystal is by specifying the positions of their qubits in the cartesian coordinate system. With the labels parameter we are assigning a label to each atom. \n"
   ]
  },
  {
   "cell_type": "code",
   "execution_count": 3,
   "metadata": {},
   "outputs": [],
   "source": [
    "h_1_coordinates = np.array([[0.76, 0, 0.58]])\n",
    "h_2_coordinates = np.array([[-0.76, 0, 0.58]])\n",
    "o_coordinates = np.array([[0, 0, 0]])\n",
    "positions = np.concatenate(\n",
    "    (\n",
    "    h_1_coordinates,\n",
    "    h_2_coordinates,\n",
    "    o_coordinates\n",
    "    ),\n",
    "    axis = 0\n",
    ")\n",
    "\n",
    "labels = ['H', 'H', 'O']\n",
    "\n",
    "h2o = qse.Qbits(\n",
    "    positions = positions,\n",
    "    labels = labels\n",
    ")\n",
    "\n"
   ]
  },
  {
   "cell_type": "code",
   "execution_count": 4,
   "metadata": {},
   "outputs": [
    {
     "name": "stdout",
     "output_type": "stream",
     "text": [
      "[[0.+0.j 1.+0.j]\n",
      " [0.+0.j 1.+0.j]\n",
      " [0.+0.j 1.+0.j]]\n"
     ]
    }
   ],
   "source": [
    "states = np.zeros((positions.shape[0], 2), dtype=complex)\n",
    "states[:, 1] += 1\n",
    "print(states)"
   ]
  },
  {
   "cell_type": "markdown",
   "metadata": {},
   "source": [
    "## 1.2. Create qbits object for $CsCl$.\n",
    "\n",
    "We can also create a qbit by inputting the unit cell coordinates. For the $CsCl$ the cell is cubic. The scaled positions are the position of the atoms, given in units of the unit cell. \n"
   ]
  },
  {
   "cell_type": "code",
   "execution_count": 5,
   "metadata": {},
   "outputs": [],
   "source": [
    "cell= np.array([\n",
    "    [4.994, 0, 0], [0, 4.994, 0], [0, 0, 4.994]\n",
    "    ]\n",
    ")\n",
    "scaled_positions = np.array([\n",
    "    [0.0, 0.0, 0.0], [0.5, 0.5, 0.5]\n",
    "    ]\n",
    ")\n",
    "labels = ['Cs', 'Cl']\n",
    "\n",
    "cscl_qbit = qse.Qbits(\n",
    "    cell = cell,\n",
    "    scaled_positions = scaled_positions\n",
    ")\n"
   ]
  },
  {
   "cell_type": "markdown",
   "metadata": {},
   "source": [
    "## 1.3. Create qbits object for $Bi_{2}O_{3}$. \n",
    "\n",
    "We can use the lattice vectors $a_1$, $a_2$, $a_3$ and the angles  $\\alpha\\angle a_2a_3$ ,  $\\beta\\angle a_1a_3$ , $\\gamma\\angle a_1a_2$, to define our cell instead of its coordinates as we did before. For $Bi_{2}O_{3}$ we have that: \n",
    "\n",
    "$\\alpha = \\gamma = 90°, \\beta = 112.48$, $a_1 = 5.87A$, $a_2 = 8.12A$, $a_3 = 7.45A$\n",
    "\n",
    "\n",
    "\n",
    "\n"
   ]
  },
  {
   "cell_type": "code",
   "execution_count": 13,
   "metadata": {},
   "outputs": [
    {
     "name": "stdout",
     "output_type": "stream",
     "text": [
      "[[0.00000000e+00 0.00000000e+00 0.00000000e+00]\n",
      " [5.57531799e-16 2.36061205e+00 1.72750000e+00]]\n",
      "crank = 3, prank = 1\n",
      "rcut is 2.9251915287720904\n"
     ]
    },
    {
     "data": {
      "image/png": "[encoded data removed]",
      "text/plain": [
       "<Figure size 640x480 with 1 Axes>"
      ]
     },
     "metadata": {},
     "output_type": "display_data"
    }
   ],
   "source": [
    "a1 = 4.13\n",
    "a2 = 4.13\n",
    "a3 = 6.91\n",
    "alpha = 90.00 \n",
    "beta = 90.00\n",
    "gamma = 120.00\n",
    "cell = [a1,a2,a3, alpha,beta, gamma]\n",
    "bi = [0,0,0]\n",
    "mn = [0.33, 0.66, 0.25]\n",
    "scaled_positions = np.array([bi, mn])\n",
    "states = np.array([\n",
    "    [0, 1],\n",
    "    [1, 0]\n",
    "]\n",
    ")\n",
    "mnbi_qbits = qse.Qbits(\n",
    "    cell=cell,\n",
    "    scaled_positions=scaled_positions,\n",
    "    states = states,\n",
    "    \n",
    "    )\n",
    "\n",
    "print(mnbi_qbits.positions)\n",
    "mnbi_qbits.draw()\n"
   ]
  },
  {
   "cell_type": "code",
   "execution_count": null,
   "metadata": {},
   "outputs": [],
   "source": []
  }
 ],
 "metadata": {
  "kernelspec": {
   "display_name": "env_qse",
   "language": "python",
   "name": "python3"
  },
  "language_info": {
   "codemirror_mode": {
    "name": "ipython",
    "version": 3
   },
   "file_extension": ".py",
   "mimetype": "text/x-python",
   "name": "python",
   "nbconvert_exporter": "python",
   "pygments_lexer": "ipython3",
   "version": "3.12.9"
  }
 },
 "nbformat": 4,
 "nbformat_minor": 2
}
