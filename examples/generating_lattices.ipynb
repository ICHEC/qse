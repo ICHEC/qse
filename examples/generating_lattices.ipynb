{
 "cells": [
  {
   "cell_type": "markdown",
   "metadata": {},
   "source": [
    "# Generating Lattices\n",
    "We have several functions in the `qse.lattices` submodule to directly generate known lattices and geometries."
   ]
  },
  {
   "cell_type": "code",
   "execution_count": null,
   "metadata": {},
   "outputs": [],
   "source": [
    "import matplotlib.pyplot as plt\n",
    "import numpy as np\n",
    "import qse"
   ]
  },
  {
   "cell_type": "markdown",
   "metadata": {},
   "source": [
    "## Ring geometry"
   ]
  },
  {
   "cell_type": "code",
   "execution_count": null,
   "metadata": {},
   "outputs": [],
   "source": [
    "qring = qse.lattices.ring(spacing=2.0, nqbits=12)\n",
    "qring.draw(radius=\"nearest\")"
   ]
  },
  {
   "cell_type": "markdown",
   "metadata": {},
   "source": [
    "## Square lattice"
   ]
  },
  {
   "cell_type": "code",
   "execution_count": null,
   "metadata": {},
   "outputs": [],
   "source": [
    "square_reg = qse.lattices.square(1, repeats_x=6, repeats_y=6)\n",
    "square_reg.set_centroid(0.0)\n",
    "\n",
    "qse.draw(square_reg, radius=2)"
   ]
  },
  {
   "cell_type": "markdown",
   "metadata": {},
   "source": [
    "## Triangular lattice"
   ]
  },
  {
   "cell_type": "code",
   "execution_count": null,
   "metadata": {},
   "outputs": [],
   "source": [
    "triangular_reg = qse.lattices.triangular(1, repeats_x=6, repeats_y=5)\n",
    "qse.draw(triangular_reg, radius=\"nearest\")"
   ]
  },
  {
   "cell_type": "markdown",
   "metadata": {},
   "source": [
    "## Hexagonal lattice"
   ]
  },
  {
   "cell_type": "code",
   "execution_count": null,
   "metadata": {},
   "outputs": [],
   "source": [
    "hexagonal_reg = qse.lattices.hexagonal(1, repeats_x=5, repeats_y=5)\n",
    "qse.draw(hexagonal_reg, radius=1.1, show_labels=True)"
   ]
  },
  {
   "cell_type": "code",
   "execution_count": null,
   "metadata": {},
   "outputs": [],
   "source": [
    "del hexagonal_reg[[0, 49]]\n",
    "qse.draw(hexagonal_reg, radius=1.1)"
   ]
  },
  {
   "cell_type": "markdown",
   "metadata": {},
   "source": [
    "## Kagome lattice"
   ]
  },
  {
   "cell_type": "code",
   "execution_count": null,
   "metadata": {},
   "outputs": [],
   "source": [
    "kagome_reg = qse.lattices.kagome(1, repeats_x=5, repeats_y=5)\n",
    "kagome_reg.set_centroid(0.0)\n",
    "qse.draw(kagome_reg, radius=3)"
   ]
  },
  {
   "cell_type": "markdown",
   "metadata": {},
   "source": [
    "## Constructing lattices via lattice vectors"
   ]
  },
  {
   "cell_type": "markdown",
   "metadata": {},
   "source": [
    "### Rectangluar lattice"
   ]
  },
  {
   "cell_type": "code",
   "execution_count": null,
   "metadata": {},
   "outputs": [],
   "source": [
    "spacing = 1.0\n",
    "cell = spacing * np.array([[2.0, 0.0, 0.0], [0.0, 1.0, 0.0], [0.0, 0.0, 0.0]])\n",
    "\n",
    "# qbits object with one qubit at origin\n",
    "q_unit = qse.Qbits(positions=np.zeros((1, 3)), cell=cell)\n",
    "\n",
    "# now repeat the pattern to get lattice of desired size\n",
    "q_sc = q_unit.repeat((5, 5, 1))\n",
    "q_sc.draw(radius=2)"
   ]
  },
  {
   "cell_type": "markdown",
   "metadata": {},
   "source": [
    "### Simple Cubic lattice"
   ]
  },
  {
   "cell_type": "code",
   "execution_count": null,
   "metadata": {},
   "outputs": [],
   "source": [
    "# simple cubic unit cell\n",
    "spacing = 1.0\n",
    "sc_cell = spacing * np.array([[1.0, 0.0, 0.0], [0.0, 1.0, 0.0], [0.0, 0.0, 1.0]])\n",
    "\n",
    "# qbits object with one qubit at origin\n",
    "q_unit = qse.Qbits(positions=np.zeros((1, 3)), cell=sc_cell)\n",
    "\n",
    "# now repeat the pattern to get lattice of desired size\n",
    "q_sc = q_unit.repeat((5, 5, 5))\n",
    "q_sc.draw()"
   ]
  },
  {
   "cell_type": "markdown",
   "metadata": {},
   "source": [
    "## Some special geometries"
   ]
  },
  {
   "cell_type": "markdown",
   "metadata": {},
   "source": [
    "### Torus geometry"
   ]
  },
  {
   "cell_type": "code",
   "execution_count": null,
   "metadata": {},
   "outputs": [],
   "source": [
    "qtorus = qse.lattices.torus(n_outer=18, n_inner=18, inner_radius=2.0, outer_radius=6.0)\n",
    "qtorus.draw(radius=2.0)"
   ]
  },
  {
   "cell_type": "markdown",
   "metadata": {},
   "source": [
    "## Version"
   ]
  },
  {
   "cell_type": "code",
   "execution_count": null,
   "metadata": {},
   "outputs": [],
   "source": [
    "qse.utils.print_environment()"
   ]
  }
 ],
 "metadata": {
  "kernelspec": {
   "display_name": "qse",
   "language": "python",
   "name": "python3"
  },
  "language_info": {
   "codemirror_mode": {
    "name": "ipython",
    "version": 3
   },
   "file_extension": ".py",
   "mimetype": "text/x-python",
   "name": "python",
   "nbconvert_exporter": "python",
   "pygments_lexer": "ipython3",
   "version": "3.11.11"
  },
  "orig_nbformat": 4
 },
 "nbformat": 4,
 "nbformat_minor": 2
}
