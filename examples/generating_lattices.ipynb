{
 "cells": [
  {
   "cell_type": "markdown",
   "metadata": {},
   "source": [
    "# Generating Lattices\n",
    "We have several functions in the `qse.lattices` submodule to directly generate known lattice objects."
   ]
  },
  {
   "cell_type": "code",
   "execution_count": null,
   "metadata": {},
   "outputs": [],
   "source": [
    "import matplotlib.pyplot as plt\n",
    "import numpy as np\n",
    "import qse"
   ]
  },
  {
   "cell_type": "markdown",
   "metadata": {},
   "source": [
    "## Square Lattice"
   ]
  },
  {
   "cell_type": "code",
   "execution_count": null,
   "metadata": {},
   "outputs": [],
   "source": [
    "square_reg = qse.lattices.square(1, repeats_x=6, repeats_y=6)\n",
    "square_reg.set_centroid(0.0)\n",
    "\n",
    "qse.draw(square_reg, radius=10)"
   ]
  },
  {
   "cell_type": "markdown",
   "metadata": {},
   "source": [
    "## Triangular lattice"
   ]
  },
  {
   "cell_type": "code",
   "execution_count": null,
   "metadata": {},
   "outputs": [],
   "source": [
    "triangular_reg = qse.lattices.triangular(1, repeats_x=6, repeats_y=5)\n",
    "qse.draw(triangular_reg, radius=1.1)"
   ]
  },
  {
   "cell_type": "code",
   "execution_count": null,
   "metadata": {},
   "outputs": [],
   "source": [
    "rij = triangular_reg.get_all_distances()\n",
    "\n",
    "ib = np.logical_not(np.eye(triangular_reg.nqbits, dtype=bool))\n",
    "rmin = rij[ib].min() * 1.01\n",
    "\n",
    "print(f\"rmin is {rmin}\")"
   ]
  },
  {
   "cell_type": "markdown",
   "metadata": {},
   "source": [
    "## Hexagonal cricket"
   ]
  },
  {
   "cell_type": "code",
   "execution_count": null,
   "metadata": {},
   "outputs": [],
   "source": [
    "hexagonal_reg = qse.lattices.hexagonal(1, repeats_x=5, repeats_y=5)\n",
    "\n",
    "qse.draw(hexagonal_reg, radius=1.1)"
   ]
  },
  {
   "cell_type": "markdown",
   "metadata": {},
   "source": [
    "## Kagome Lattice"
   ]
  },
  {
   "cell_type": "code",
   "execution_count": null,
   "metadata": {},
   "outputs": [],
   "source": [
    "kagome_reg = qse.lattices.kagome(1, repeats_x=5, repeats_y=5)\n",
    "kagome_reg.set_centroid(0.0)\n",
    "qse.draw(kagome_reg, radius=3)"
   ]
  },
  {
   "cell_type": "markdown",
   "metadata": {},
   "source": [
    "## Constructing lattices via lattice vectors"
   ]
  },
  {
   "cell_type": "code",
   "execution_count": null,
   "metadata": {},
   "outputs": [],
   "source": [
    "# construct lattice via lattice vectors\n",
    "N1, N2, N3 = 6, 6, 6\n",
    "a = 1  # lattice spacing\n",
    "# simple cubic unit cell\n",
    "sc_cell = qse.cell.Cell.fromcellpar([a, a, a, 90, 90, 90])\n",
    "\n",
    "# qbits object with one qubit at origin\n",
    "q_unit = qse.Qbits(positions=np.zeros((1, 3)))\n",
    "\n",
    "# set q_unit's cell to simple cubic\n",
    "q_unit.cell = sc_cell\n",
    "\n",
    "# now repeat the pattern to get lattice of desired size\n",
    "q_sc = q_unit.repeat((N1, N2, N3))\n",
    "\n",
    "print(q_sc)\n",
    "\n",
    "q_sc.draw()\n",
    "plt.show()\n",
    "# fig = plt.figure()\n",
    "# ax = fig.add_subplot(projection='3d')\n",
    "# ax.scatter(q_sc.positions[:, 0], q_sc.positions[:, 1], q_sc.positions[:, 2], marker='.')\n",
    "# plt.show()"
   ]
  },
  {
   "cell_type": "markdown",
   "metadata": {},
   "source": [
    "## Some special geometries\n",
    "\n",
    "### Ring geometry"
   ]
  },
  {
   "cell_type": "code",
   "execution_count": null,
   "metadata": {},
   "outputs": [],
   "source": [
    "r0 = 2.0\n",
    "qring = qse.lattices.ring(radius=r0, npoints=12)\n",
    "print(qring)\n",
    "qring.draw(radius=r0)"
   ]
  },
  {
   "cell_type": "markdown",
   "metadata": {},
   "source": [
    "### Torus geometry"
   ]
  },
  {
   "cell_type": "code",
   "execution_count": null,
   "metadata": {},
   "outputs": [],
   "source": [
    "qtorus = qse.lattices.torus(N1=18, N2=18, Rin=2.0, Rout=6.0)\n",
    "print(qtorus)\n",
    "qtorus.draw(radius=2.0)"
   ]
  },
  {
   "cell_type": "markdown",
   "metadata": {},
   "source": [
    "## Qbits attributes\n",
    "\n",
    "## Available methods\n",
    "\n",
    "## manipulating Qbits\n",
    "\n",
    "- Using supercell to generate lattices."
   ]
  },
  {
   "cell_type": "code",
   "execution_count": null,
   "metadata": {},
   "outputs": [],
   "source": [
    "print(square_reg.nqbits)\n",
    "nn = square_reg + square_reg\n",
    "print(nn.nqbits)"
   ]
  },
  {
   "cell_type": "markdown",
   "metadata": {},
   "source": [
    "## Version"
   ]
  },
  {
   "cell_type": "code",
   "execution_count": null,
   "metadata": {},
   "outputs": [],
   "source": [
    "qse.utils.print_environment()"
   ]
  }
 ],
 "metadata": {
  "kernelspec": {
   "display_name": "qse",
   "language": "python",
   "name": "python3"
  },
  "language_info": {
   "codemirror_mode": {
    "name": "ipython",
    "version": 3
   },
   "file_extension": ".py",
   "mimetype": "text/x-python",
   "name": "python",
   "nbconvert_exporter": "python",
   "pygments_lexer": "ipython3",
   "version": "3.11.11"
  },
  "orig_nbformat": 4
 },
 "nbformat": 4,
 "nbformat_minor": 2
}
