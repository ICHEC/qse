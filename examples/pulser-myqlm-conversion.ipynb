{
 "cells": [
  {
   "cell_type": "markdown",
   "metadata": {},
   "source": [
    "# Pulser-MyQLM Conversion"
   ]
  },
  {
   "cell_type": "code",
   "execution_count": null,
   "metadata": {},
   "outputs": [],
   "source": [
    "import numpy as np\n",
    "import qat\n",
    "from qat.core import Schedule\n",
    "\n",
    "# from qat.qpus import AnalogQPU\n",
    "from qlmaas.qpus import AnalogQPU\n",
    "\n",
    "# import qse\n",
    "from time import time\n",
    "import qse\n",
    "import numpy as np\n",
    "import qat\n",
    "from qat.core import Schedule\n",
    "\n",
    "# from qat.qpus import AnalogQPU\n",
    "from qlmaas.qpus import AnalogQPU\n",
    "\n",
    "# import qse\n",
    "from time import time\n",
    "import pickle\n",
    "import numpy as np\n",
    "import pulser\n",
    "import qutip\n",
    "from pprint import pprint\n",
    "from pulser import Pulse, Sequence, Register\n",
    "import pulser.waveforms\n",
    "from pulser.waveforms import ConstantWaveform, RampWaveform\n",
    "from pulser.devices import MockDevice\n",
    "from pulser_simulation import QutipEmulator, SimConfig\n",
    "import matplotlib.pyplot as plt\n",
    "import qse\n",
    "from pulser.devices import AnalogDevice"
   ]
  },
  {
   "cell_type": "markdown",
   "metadata": {},
   "source": [
    "## Testing a one atom setup with 0 amplitude and detuning"
   ]
  },
  {
   "cell_type": "code",
   "execution_count": null,
   "metadata": {},
   "outputs": [],
   "source": [
    "Omega_max = 2.0 * 2 * np.pi\n",
    "U = Omega_max / 2.0\n",
    "R_interatomic = MockDevice.rydberg_blockade_radius(U)\n",
    "reg = Register.square(1, R_interatomic, prefix=\"q\")\n",
    "print(f\"Interatomic Radius is: {R_interatomic}µm.\")\n",
    "reg.draw()"
   ]
  },
  {
   "cell_type": "code",
   "execution_count": null,
   "metadata": {},
   "outputs": [],
   "source": [
    "delta_0 = -6 * U\n",
    "delta_f = 2 * U\n",
    "t_rise = 252\n",
    "t_fall = 500\n",
    "t_sweep = (delta_f - delta_0) / (2 * np.pi * 10) * 1000\n",
    "rise = Pulse.ConstantDetuning(RampWaveform(t_rise, 0.0, 0.0), 0, 0.0)\n",
    "sweep = Pulse.ConstantAmplitude(Omega_max, RampWaveform(t_sweep, delta_0, delta_f), 0.0)\n",
    "fall = Pulse.ConstantDetuning(RampWaveform(t_fall, Omega_max, 0.0), delta_f, 0.0)\n",
    "seq1 = Sequence(reg, MockDevice)\n",
    "seq1.declare_channel(\"ising\", \"rydberg_global\")\n",
    "\n",
    "seq1.add(rise, \"ising\")\n",
    "seq1.add(sweep, \"ising\")\n",
    "seq1.add(fall, \"ising\")\n",
    "\n",
    "seq1.draw()"
   ]
  },
  {
   "cell_type": "code",
   "execution_count": null,
   "metadata": {},
   "outputs": [],
   "source": [
    "sim = QutipEmulator.from_sequence(seq1)"
   ]
  },
  {
   "cell_type": "code",
   "execution_count": null,
   "metadata": {},
   "outputs": [],
   "source": [
    "import qse.qbits\n",
    "\n",
    "\n",
    "L = 3\n",
    "nqbits = L * L\n",
    "qsqr = qse.Qbits(positions=np.array([[0, 0, 0]]))\n",
    "\n",
    "\n",
    "Omega = 1.2  # Amplitude\n",
    "delta = 2.0  # detuning\n",
    "C6 = 5420158.53  # interaction scale\n",
    "nqbits = 1"
   ]
  },
  {
   "cell_type": "code",
   "execution_count": null,
   "metadata": {},
   "outputs": [],
   "source": [
    "H1_terms = [qat.core.Term(0.5, \"X\", [i]) for i in range(qsqr.nqbits)]\n",
    "H1 = qat.core.Observable(nqbits, pauli_terms=H1_terms)\n",
    "\n",
    "H2_terms = [qat.core.Term(-0.5, \"Z\", [i]) for i in range(qsqr.nqbits)]\n",
    "H2 = qat.core.Observable(nqbits, pauli_terms=H2_terms)\n",
    "\n",
    "rij = qsqr.get_all_distances()\n",
    "\n",
    "\n",
    "def occ_op(nqbits, qi):\n",
    "    ti = qat.core.Term(1.0, \"Z\", [qi])\n",
    "    return (1 + qat.core.Observable(nqbits, pauli_terms=[ti])) / 2\n",
    "\n",
    "\n",
    "#\n",
    "# H3 = 0\n",
    "\n",
    "# for i in range(nqbits):\n",
    "#     for j in range(i + 1, nqbits):\n",
    "#         H3 += (C6 / rij[i, j]**6) * occ_op(nqbits, i) * occ_op(nqbits, j)"
   ]
  },
  {
   "cell_type": "code",
   "execution_count": null,
   "metadata": {},
   "outputs": [],
   "source": [
    "from qat.core.variables import Variable, heaviside\n",
    "from qat.core import Observable\n",
    "\n",
    "\n",
    "def create_waveform(times, values):\n",
    "    \"\"\"\n",
    "    A Funnction allowing us to concatenate many lines, limited by heavisides,\n",
    "    thus creating a continuous, kinked line.\n",
    "    \"\"\"\n",
    "    assert len(times) == len(values)\n",
    "    # Store the final line as an ArithExpression\n",
    "    arith_expr = 0\n",
    "    t_var = Variable(\"t\")\n",
    "    # A line between each two points\n",
    "    for entry_i in range(1, len(times)):\n",
    "        # Create ax + b by calculating the slope and the offset\n",
    "        a = (values[entry_i] - values[entry_i - 1]) / (\n",
    "            times[entry_i] - times[entry_i - 1]\n",
    "        )\n",
    "        b = (\n",
    "            (values[entry_i] + values[entry_i - 1])\n",
    "            - a * (times[entry_i] + times[entry_i - 1])\n",
    "        ) / 2\n",
    "        respective_line = a * t_var + b\n",
    "        arith_expr += (\n",
    "            heaviside(t_var, times[entry_i - 1], times[entry_i]) * respective_line\n",
    "        )\n",
    "    return arith_expr\n",
    "\n",
    "\n",
    "#\n",
    "Omega_max = 2.0 * 2 * np.pi\n",
    "U = Omega_max / 2.0\n",
    "\n",
    "delta_0 = -6 * U\n",
    "delta_f = 2 * U\n",
    "\n",
    "t_rise = 0.252\n",
    "t_fall = 0.500\n",
    "t_sweep = ((delta_f - delta_0) / (2 * np.pi * 10) * 1000) * (10**-3)\n",
    "\n",
    "\n",
    "# The waveform of Omega - for the sigma_x terms\n",
    "omega_values = [0.0, 0, Omega_max, 0]\n",
    "times_omega = [0, t_rise, t_rise + t_sweep, t_rise + t_sweep + t_fall]\n",
    "\n",
    "\n",
    "omega_waveform = create_waveform(times_omega, omega_values)\n",
    "# The waveform of the detuning Delta - for the 'n' terms\n",
    "delta_start = -2 * np.pi * 13\n",
    "delta_end = 2 * np.pi * 11  # R_blockade is taken as 7.5\n",
    "delta_values = [0, 0, delta_f, delta_f]\n",
    "delta_waveform = create_waveform(times_omega, delta_values)"
   ]
  },
  {
   "cell_type": "code",
   "execution_count": null,
   "metadata": {},
   "outputs": [],
   "source": [
    "from qat.core import Observable\n",
    "\n",
    "Hamiltonian = Observable(\n",
    "    [\n",
    "        (omega_waveform, H1),\n",
    "        (delta_waveform, H2),\n",
    "    ]\n",
    ")\n",
    "\n",
    "schedule = Schedule(\n",
    "    drive=[\n",
    "        (omega_waveform, H1),\n",
    "        (delta_waveform, H2),\n",
    "    ],\n",
    "    tmax=t_rise + t_sweep + t_fall,\n",
    ")"
   ]
  },
  {
   "cell_type": "code",
   "execution_count": null,
   "metadata": {},
   "outputs": [],
   "source": [
    "schedule.display()"
   ]
  },
  {
   "cell_type": "code",
   "execution_count": null,
   "metadata": {},
   "outputs": [],
   "source": [
    "matrixm = 0 * H1.to_matrix(sparse=False) + 0 * H2.to_matrix(sparse=False)"
   ]
  },
  {
   "cell_type": "code",
   "execution_count": null,
   "metadata": {},
   "outputs": [],
   "source": [
    "matrixp = sim.get_hamiltonian(0).get_data().toarray()\n",
    "plt.imshow(matrixp.real)\n",
    "print(matrixp)\n",
    "np.savetxt(\"matrix-p.dat\", matrixp.real)\n",
    "np.all(matrixp.imag == 0)"
   ]
  },
  {
   "cell_type": "code",
   "execution_count": null,
   "metadata": {},
   "outputs": [],
   "source": [
    "plt.imshow(matrixm.real)\n",
    "print(matrixm)\n",
    "np.savetxt(\"matrix-m.dat\", matrixm.real)\n",
    "np.all(matrixm.imag == 0)"
   ]
  },
  {
   "cell_type": "code",
   "execution_count": null,
   "metadata": {},
   "outputs": [],
   "source": [
    "plt.imshow(matrix0.real)\n",
    "print(matrix0)\n",
    "np.savetxt(\"matrix-q.dat\", matrix0.real)\n",
    "np.all(matrix0.imag == 0)"
   ]
  },
  {
   "cell_type": "markdown",
   "metadata": {},
   "source": [
    "## Testing a one atom setup with 0 amplitude and detuning set to fixed value"
   ]
  },
  {
   "cell_type": "code",
   "execution_count": null,
   "metadata": {},
   "outputs": [],
   "source": [
    "Omega_max = 2.0 * 2 * np.pi\n",
    "U = Omega_max / 2.0\n",
    "R_interatomic = MockDevice.rydberg_blockade_radius(U)\n",
    "reg = Register.square(1, R_interatomic, prefix=\"q\")\n",
    "print(f\"Interatomic Radius is: {R_interatomic}µm.\")\n",
    "reg.draw()"
   ]
  },
  {
   "cell_type": "code",
   "execution_count": null,
   "metadata": {},
   "outputs": [],
   "source": [
    "delta_0 = -6 * U\n",
    "delta_f = 2 * U\n",
    "t_rise = 252\n",
    "t_fall = 500\n",
    "t_sweep = (delta_f - delta_0) / (2 * np.pi * 10) * 1000\n",
    "rise = Pulse.ConstantDetuning(RampWaveform(t_rise, 0.0, 0.0), delta_0, 0.0)\n",
    "sweep = Pulse.ConstantAmplitude(Omega_max, RampWaveform(t_sweep, delta_0, delta_f), 0.0)\n",
    "fall = Pulse.ConstantDetuning(RampWaveform(t_fall, Omega_max, 0.0), delta_f, 0.0)\n",
    "seq1 = Sequence(reg, MockDevice)\n",
    "seq1.declare_channel(\"ising\", \"rydberg_global\")\n",
    "\n",
    "seq1.add(rise, \"ising\")\n",
    "seq1.add(sweep, \"ising\")\n",
    "seq1.add(fall, \"ising\")\n",
    "\n",
    "seq1.draw()"
   ]
  },
  {
   "cell_type": "code",
   "execution_count": null,
   "metadata": {},
   "outputs": [],
   "source": [
    "sim = QutipEmulator.from_sequence(seq1)"
   ]
  },
  {
   "cell_type": "code",
   "execution_count": null,
   "metadata": {},
   "outputs": [],
   "source": [
    "import qse.qbits\n",
    "\n",
    "\n",
    "L = 3\n",
    "nqbits = L * L\n",
    "qsqr = qse.Qbits(positions=np.array([[0, 0, 0]]))\n",
    "\n",
    "\n",
    "Omega = 1.2  # Amplitude\n",
    "delta = 2.0  # detuning\n",
    "C6 = 5420158.53  # interaction scale\n",
    "nqbits = 1"
   ]
  },
  {
   "cell_type": "code",
   "execution_count": null,
   "metadata": {},
   "outputs": [],
   "source": [
    "H1_terms = [qat.core.Term(0.5, \"X\", [i]) for i in range(qsqr.nqbits)]\n",
    "H1 = qat.core.Observable(nqbits, pauli_terms=H1_terms)\n",
    "\n",
    "H2_terms = [qat.core.Term(-0.5, \"Z\", [i]) for i in range(qsqr.nqbits)]\n",
    "H2 = qat.core.Observable(nqbits, pauli_terms=H2_terms)\n",
    "\n",
    "rij = qsqr.get_all_distances()\n",
    "\n",
    "\n",
    "def occ_op(nqbits, qi):\n",
    "    ti = qat.core.Term(1.0, \"Z\", [qi])\n",
    "    return (1 + qat.core.Observable(nqbits, pauli_terms=[ti])) / 2\n",
    "\n",
    "\n",
    "#\n",
    "# H3 = 0\n",
    "\n",
    "# for i in range(nqbits):\n",
    "#     for j in range(i + 1, nqbits):\n",
    "#         H3 += (C6 / rij[i, j]**6) * occ_op(nqbits, i) * occ_op(nqbits, j)"
   ]
  },
  {
   "cell_type": "code",
   "execution_count": null,
   "metadata": {},
   "outputs": [],
   "source": [
    "from qat.core.variables import Variable, heaviside\n",
    "from qat.core import Observable\n",
    "\n",
    "\n",
    "def create_waveform(times, values):\n",
    "    \"\"\"\n",
    "    A Funnction allowing us to concatenate many lines, limited by heavisides,\n",
    "    thus creating a continuous, kinked line.\n",
    "    \"\"\"\n",
    "    assert len(times) == len(values)\n",
    "    # Store the final line as an ArithExpression\n",
    "    arith_expr = 0\n",
    "    t_var = Variable(\"t\")\n",
    "    # A line between each two points\n",
    "    for entry_i in range(1, len(times)):\n",
    "        # Create ax + b by calculating the slope and the offset\n",
    "        a = (values[entry_i] - values[entry_i - 1]) / (\n",
    "            times[entry_i] - times[entry_i - 1]\n",
    "        )\n",
    "        b = (\n",
    "            (values[entry_i] + values[entry_i - 1])\n",
    "            - a * (times[entry_i] + times[entry_i - 1])\n",
    "        ) / 2\n",
    "        respective_line = a * t_var + b\n",
    "        arith_expr += (\n",
    "            heaviside(t_var, times[entry_i - 1], times[entry_i]) * respective_line\n",
    "        )\n",
    "    return arith_expr\n",
    "\n",
    "\n",
    "#\n",
    "Omega_max = 2.0 * 2 * np.pi\n",
    "U = Omega_max / 2.0\n",
    "\n",
    "delta_0 = -6 * U\n",
    "delta_f = 2 * U\n",
    "\n",
    "t_rise = 0.252\n",
    "t_fall = 0.500\n",
    "t_sweep = ((delta_f - delta_0) / (2 * np.pi * 10) * 1000) * (10**-3)\n",
    "\n",
    "\n",
    "# The waveform of Omega - for the sigma_x terms\n",
    "omega_values = [0.0, 0, Omega_max, 0]\n",
    "times_omega = [0, t_rise, t_rise + t_sweep, t_rise + t_sweep + t_fall]\n",
    "\n",
    "\n",
    "omega_waveform = create_waveform(times_omega, omega_values)\n",
    "# The waveform of the detuning Delta - for the 'n' terms\n",
    "delta_start = -2 * np.pi * 13\n",
    "delta_end = 2 * np.pi * 11  # R_blockade is taken as 7.5\n",
    "delta_values = [delta_0, 0, delta_f, delta_f]\n",
    "delta_waveform = create_waveform(times_omega, delta_values)"
   ]
  },
  {
   "cell_type": "code",
   "execution_count": null,
   "metadata": {},
   "outputs": [],
   "source": [
    "from qat.core import Observable\n",
    "\n",
    "Hamiltonian = Observable(\n",
    "    [\n",
    "        (omega_waveform, H1),\n",
    "        (delta_waveform, H2),\n",
    "    ]\n",
    ")\n",
    "\n",
    "schedule = Schedule(\n",
    "    drive=[\n",
    "        (omega_waveform, H1),\n",
    "        (delta_waveform, H2),\n",
    "    ],\n",
    "    tmax=t_rise + t_sweep + t_fall,\n",
    ")"
   ]
  },
  {
   "cell_type": "code",
   "execution_count": null,
   "metadata": {},
   "outputs": [],
   "source": [
    "schedule.display()"
   ]
  },
  {
   "cell_type": "code",
   "execution_count": null,
   "metadata": {},
   "outputs": [],
   "source": [
    "matrixm = 0 * H1.to_matrix(sparse=False) + delta_0 * H2.to_matrix(sparse=False)"
   ]
  },
  {
   "cell_type": "code",
   "execution_count": null,
   "metadata": {},
   "outputs": [],
   "source": [
    "matrixp = sim.get_hamiltonian(0).get_data().toarray()\n",
    "plt.imshow(matrixp.real)\n",
    "print(matrixp)\n",
    "np.savetxt(\"matrix-p.dat\", matrixp.real)\n",
    "np.all(matrixp.imag == 0)"
   ]
  },
  {
   "cell_type": "code",
   "execution_count": null,
   "metadata": {},
   "outputs": [],
   "source": [
    "plt.imshow(matrixm.real)\n",
    "print(matrixm)\n",
    "np.savetxt(\"matrix-m.dat\", matrixm.real)\n",
    "np.all(matrixm.imag == 0)"
   ]
  },
  {
   "cell_type": "markdown",
   "metadata": {},
   "source": [
    "## Testing one atom with Amplitude set to fixed number and detuning to 0\n"
   ]
  },
  {
   "cell_type": "code",
   "execution_count": null,
   "metadata": {},
   "outputs": [],
   "source": [
    "Omega_max = 2.0 * 2 * np.pi\n",
    "U = Omega_max / 2.0\n",
    "R_interatomic = MockDevice.rydberg_blockade_radius(U)\n",
    "reg = Register.square(1, R_interatomic, prefix=\"q\")\n",
    "print(f\"Interatomic Radius is: {R_interatomic}µm.\")\n",
    "reg.draw()"
   ]
  },
  {
   "cell_type": "code",
   "execution_count": null,
   "metadata": {},
   "outputs": [],
   "source": [
    "delta_0 = -6 * U\n",
    "delta_f = 2 * U\n",
    "t_rise = 252\n",
    "t_fall = 500\n",
    "t_sweep = (delta_f - delta_0) / (2 * np.pi * 10) * 1000\n",
    "rise = Pulse.ConstantDetuning(RampWaveform(t_rise, Omega_max, Omega_max), 0, 0.0)\n",
    "sweep = Pulse.ConstantAmplitude(Omega_max, RampWaveform(t_sweep, delta_0, delta_f), 0.0)\n",
    "fall = Pulse.ConstantDetuning(RampWaveform(t_fall, Omega_max, 0.0), delta_f, 0.0)\n",
    "seq1 = Sequence(reg, MockDevice)\n",
    "seq1.declare_channel(\"ising\", \"rydberg_global\")\n",
    "\n",
    "seq1.add(rise, \"ising\")\n",
    "seq1.add(sweep, \"ising\")\n",
    "seq1.add(fall, \"ising\")\n",
    "\n",
    "seq1.draw()"
   ]
  },
  {
   "cell_type": "code",
   "execution_count": null,
   "metadata": {},
   "outputs": [],
   "source": [
    "sim = QutipEmulator.from_sequence(seq1)"
   ]
  },
  {
   "cell_type": "code",
   "execution_count": null,
   "metadata": {},
   "outputs": [],
   "source": [
    "import qse.qbits\n",
    "\n",
    "\n",
    "L = 3\n",
    "nqbits = L * L\n",
    "qsqr = qse.Qbits(positions=np.array([[0, 0, 0]]))\n",
    "\n",
    "\n",
    "Omega = 1.2  # Amplitude\n",
    "delta = 2.0  # detuning\n",
    "C6 = 5420158.53  # interaction scale\n",
    "nqbits = 1"
   ]
  },
  {
   "cell_type": "code",
   "execution_count": null,
   "metadata": {},
   "outputs": [],
   "source": [
    "H1_terms = [qat.core.Term(0.5, \"X\", [i]) for i in range(qsqr.nqbits)]\n",
    "H1 = qat.core.Observable(nqbits, pauli_terms=H1_terms)\n",
    "\n",
    "H2_terms = [qat.core.Term(-0.5, \"Z\", [i]) for i in range(qsqr.nqbits)]\n",
    "H2 = qat.core.Observable(nqbits, pauli_terms=H2_terms)\n",
    "\n",
    "rij = qsqr.get_all_distances()\n",
    "\n",
    "\n",
    "def occ_op(nqbits, qi):\n",
    "    ti = qat.core.Term(1.0, \"Z\", [qi])\n",
    "    return (1 + qat.core.Observable(nqbits, pauli_terms=[ti])) / 2\n",
    "\n",
    "\n",
    "#\n",
    "# H3 = 0\n",
    "\n",
    "# for i in range(nqbits):\n",
    "#     for j in range(i + 1, nqbits):\n",
    "#         H3 += (C6 / rij[i, j]**6) * occ_op(nqbits, i) * occ_op(nqbits, j)"
   ]
  },
  {
   "cell_type": "code",
   "execution_count": null,
   "metadata": {},
   "outputs": [],
   "source": [
    "from qat.core.variables import Variable, heaviside\n",
    "from qat.core import Observable\n",
    "\n",
    "\n",
    "def create_waveform(times, values):\n",
    "    \"\"\"\n",
    "    A Funnction allowing us to concatenate many lines, limited by heavisides,\n",
    "    thus creating a continuous, kinked line.\n",
    "    \"\"\"\n",
    "    assert len(times) == len(values)\n",
    "    # Store the final line as an ArithExpression\n",
    "    arith_expr = 0\n",
    "    t_var = Variable(\"t\")\n",
    "    # A line between each two points\n",
    "    for entry_i in range(1, len(times)):\n",
    "        # Create ax + b by calculating the slope and the offset\n",
    "        a = (values[entry_i] - values[entry_i - 1]) / (\n",
    "            times[entry_i] - times[entry_i - 1]\n",
    "        )\n",
    "        b = (\n",
    "            (values[entry_i] + values[entry_i - 1])\n",
    "            - a * (times[entry_i] + times[entry_i - 1])\n",
    "        ) / 2\n",
    "        respective_line = a * t_var + b\n",
    "        arith_expr += (\n",
    "            heaviside(t_var, times[entry_i - 1], times[entry_i]) * respective_line\n",
    "        )\n",
    "    return arith_expr\n",
    "\n",
    "\n",
    "#\n",
    "Omega_max = 2.0 * 2 * np.pi\n",
    "U = Omega_max / 2.0\n",
    "\n",
    "delta_0 = -6 * U\n",
    "delta_f = 2 * U\n",
    "\n",
    "t_rise = 0.252\n",
    "t_fall = 0.500\n",
    "t_sweep = ((delta_f - delta_0) / (2 * np.pi * 10) * 1000) * (10**-3)\n",
    "\n",
    "\n",
    "# The waveform of Omega - for the sigma_x terms\n",
    "omega_values = [Omega_max, 0, Omega_max, 0]\n",
    "times_omega = [0, t_rise, t_rise + t_sweep, t_rise + t_sweep + t_fall]\n",
    "\n",
    "\n",
    "omega_waveform = create_waveform(times_omega, omega_values)\n",
    "# The waveform of the detuning Delta - for the 'n' terms\n",
    "delta_start = -2 * np.pi * 13\n",
    "delta_end = 2 * np.pi * 11  # R_blockade is taken as 7.5\n",
    "delta_values = [0, 0, delta_f, delta_f]\n",
    "delta_waveform = create_waveform(times_omega, delta_values)"
   ]
  },
  {
   "cell_type": "code",
   "execution_count": null,
   "metadata": {},
   "outputs": [],
   "source": [
    "from qat.core import Observable\n",
    "\n",
    "Hamiltonian = Observable(\n",
    "    [\n",
    "        (omega_waveform, H1),\n",
    "        (delta_waveform, H2),\n",
    "    ]\n",
    ")\n",
    "\n",
    "schedule = Schedule(\n",
    "    drive=[\n",
    "        (omega_waveform, H1),\n",
    "        (delta_waveform, H2),\n",
    "    ],\n",
    "    tmax=t_rise + t_sweep + t_fall,\n",
    ")"
   ]
  },
  {
   "cell_type": "code",
   "execution_count": null,
   "metadata": {},
   "outputs": [],
   "source": [
    "schedule.display()"
   ]
  },
  {
   "cell_type": "code",
   "execution_count": null,
   "metadata": {},
   "outputs": [],
   "source": [
    "matrixm = Omega_max * H1.to_matrix(sparse=False) + 0 * H2.to_matrix(sparse=False)"
   ]
  },
  {
   "cell_type": "code",
   "execution_count": null,
   "metadata": {},
   "outputs": [],
   "source": [
    "matrixp = sim.get_hamiltonian(0).get_data().toarray()\n",
    "plt.imshow(matrixp.real)\n",
    "print(matrixp)\n",
    "np.savetxt(\"matrix-p.dat\", matrixp.real)"
   ]
  },
  {
   "cell_type": "code",
   "execution_count": null,
   "metadata": {},
   "outputs": [],
   "source": [
    "plt.imshow(matrixm.real)\n",
    "print(matrixm)\n",
    "np.savetxt(\"matrix-m.dat\", matrixm.real)\n",
    "np.all(matrixm.imag == 0)"
   ]
  },
  {
   "cell_type": "markdown",
   "metadata": {},
   "source": [
    "## Testing a one atom setup with 0 amplitude and detuning checking interaction term"
   ]
  },
  {
   "cell_type": "code",
   "execution_count": null,
   "metadata": {},
   "outputs": [],
   "source": [
    "Omega_max = 2.0 * 2 * np.pi\n",
    "U = Omega_max / 2.0\n",
    "R_interatomic = MockDevice.rydberg_blockade_radius(U)\n",
    "reg = Register.from_coordinates([[0, 0], [2, 0]])\n",
    "print(f\"Interatomic Radius is: {R_interatomic}µm.\")\n",
    "reg.draw()"
   ]
  },
  {
   "cell_type": "code",
   "execution_count": null,
   "metadata": {},
   "outputs": [],
   "source": [
    "delta_0 = -6 * U\n",
    "delta_f = 2 * U\n",
    "t_rise = 252\n",
    "t_fall = 500\n",
    "t_sweep = (delta_f - delta_0) / (2 * np.pi * 10) * 1000\n",
    "rise = Pulse.ConstantDetuning(RampWaveform(t_rise, 0.0, 0.0), 0, 0.0)\n",
    "sweep = Pulse.ConstantAmplitude(Omega_max, RampWaveform(t_sweep, delta_0, delta_f), 0.0)\n",
    "fall = Pulse.ConstantDetuning(RampWaveform(t_fall, Omega_max, 0.0), delta_f, 0.0)\n",
    "seq1 = Sequence(reg, MockDevice)\n",
    "seq1.declare_channel(\"ising\", \"rydberg_global\")\n",
    "\n",
    "seq1.add(rise, \"ising\")\n",
    "seq1.add(sweep, \"ising\")\n",
    "seq1.add(fall, \"ising\")\n",
    "\n",
    "seq1.draw()"
   ]
  },
  {
   "cell_type": "code",
   "execution_count": null,
   "metadata": {},
   "outputs": [],
   "source": [
    "sim = QutipEmulator.from_sequence(seq1)"
   ]
  },
  {
   "cell_type": "code",
   "execution_count": null,
   "metadata": {},
   "outputs": [],
   "source": [
    "import qse.qbits\n",
    "\n",
    "\n",
    "L = 3\n",
    "nqbits = L * L\n",
    "qsqr = qse.Qbits(positions=np.array([[0, 0, 0], [2, 0, 0]]))\n",
    "\n",
    "\n",
    "Omega = 1.2  # Amplitude\n",
    "delta = 2.0  # detuning\n",
    "C6 = 5420158.53  # interaction scale\n",
    "nqbits = 2"
   ]
  },
  {
   "cell_type": "code",
   "execution_count": null,
   "metadata": {},
   "outputs": [],
   "source": [
    "H1_terms = [qat.core.Term(0.5, \"X\", [i]) for i in range(qsqr.nqbits)]\n",
    "H1 = qat.core.Observable(nqbits, pauli_terms=H1_terms)\n",
    "\n",
    "H2_terms = [qat.core.Term(-0.5, \"Z\", [i]) for i in range(qsqr.nqbits)]\n",
    "H2 = qat.core.Observable(nqbits, pauli_terms=H2_terms)\n",
    "\n",
    "rij = qsqr.get_all_distances()\n",
    "\n",
    "\n",
    "def occ_op(nqbits, qi):\n",
    "    ti = qat.core.Term(1.0, \"Z\", [qi])\n",
    "    return (1 + qat.core.Observable(nqbits, pauli_terms=[ti])) / 2\n",
    "\n",
    "\n",
    "#\n",
    "H3 = 0\n",
    "\n",
    "for i in range(nqbits):\n",
    "    for j in range(i + 1, nqbits):\n",
    "        H3 += (C6 / rij[i, j] ** 6) * occ_op(nqbits, i) * occ_op(nqbits, j)"
   ]
  },
  {
   "cell_type": "code",
   "execution_count": null,
   "metadata": {},
   "outputs": [],
   "source": [
    "from qat.core.variables import Variable, heaviside\n",
    "from qat.core import Observable\n",
    "\n",
    "\n",
    "def create_waveform(times, values):\n",
    "    \"\"\"\n",
    "    A Funnction allowing us to concatenate many lines, limited by heavisides,\n",
    "    thus creating a continuous, kinked line.\n",
    "    \"\"\"\n",
    "    assert len(times) == len(values)\n",
    "    # Store the final line as an ArithExpression\n",
    "    arith_expr = 0\n",
    "    t_var = Variable(\"t\")\n",
    "    # A line between each two points\n",
    "    for entry_i in range(1, len(times)):\n",
    "        # Create ax + b by calculating the slope and the offset\n",
    "        a = (values[entry_i] - values[entry_i - 1]) / (\n",
    "            times[entry_i] - times[entry_i - 1]\n",
    "        )\n",
    "        b = (\n",
    "            (values[entry_i] + values[entry_i - 1])\n",
    "            - a * (times[entry_i] + times[entry_i - 1])\n",
    "        ) / 2\n",
    "        respective_line = a * t_var + b\n",
    "        arith_expr += (\n",
    "            heaviside(t_var, times[entry_i - 1], times[entry_i]) * respective_line\n",
    "        )\n",
    "    return arith_expr\n",
    "\n",
    "\n",
    "#\n",
    "Omega_max = 2.0 * 2 * np.pi\n",
    "U = Omega_max / 2.0\n",
    "\n",
    "delta_0 = -6 * U\n",
    "delta_f = 2 * U\n",
    "\n",
    "t_rise = 0.252\n",
    "t_fall = 0.500\n",
    "t_sweep = ((delta_f - delta_0) / (2 * np.pi * 10) * 1000) * (10**-3)\n",
    "\n",
    "\n",
    "# The waveform of Omega - for the sigma_x terms\n",
    "omega_values = [0.0, 0, Omega_max, 0]\n",
    "times_omega = [0, t_rise, t_rise + t_sweep, t_rise + t_sweep + t_fall]\n",
    "\n",
    "\n",
    "omega_waveform = create_waveform(times_omega, omega_values)\n",
    "# The waveform of the detuning Delta - for the 'n' terms\n",
    "delta_start = -2 * np.pi * 13\n",
    "delta_end = 2 * np.pi * 11  # R_blockade is taken as 7.5\n",
    "delta_values = [0, 0, delta_f, delta_f]\n",
    "delta_waveform = create_waveform(times_omega, delta_values)"
   ]
  },
  {
   "cell_type": "code",
   "execution_count": null,
   "metadata": {},
   "outputs": [],
   "source": [
    "from qat.core import Observable\n",
    "\n",
    "Hamiltonian = Observable(\n",
    "    [\n",
    "        (omega_waveform, H1),\n",
    "        (delta_waveform, H2),\n",
    "    ]\n",
    ")\n",
    "\n",
    "schedule = Schedule(\n",
    "    drive=[\n",
    "        (omega_waveform, H1),\n",
    "        (delta_waveform, H2),\n",
    "    ],\n",
    "    tmax=t_rise + t_sweep + t_fall,\n",
    ")"
   ]
  },
  {
   "cell_type": "code",
   "execution_count": null,
   "metadata": {},
   "outputs": [],
   "source": [
    "schedule.display()"
   ]
  },
  {
   "cell_type": "code",
   "execution_count": null,
   "metadata": {},
   "outputs": [],
   "source": [
    "matrixm = (\n",
    "    0 * H1.to_matrix(sparse=False)\n",
    "    + 0 * H2.to_matrix(sparse=False)\n",
    "    + H3.to_matrix(sparse=False)\n",
    ")"
   ]
  },
  {
   "cell_type": "code",
   "execution_count": null,
   "metadata": {},
   "outputs": [],
   "source": [
    "H3.to_matrix(sparse=False)"
   ]
  },
  {
   "cell_type": "code",
   "execution_count": null,
   "metadata": {},
   "outputs": [],
   "source": [
    "matrixp = sim.get_hamiltonian(0).get_data().toarray()\n",
    "plt.imshow(matrixp.real)\n",
    "print(matrixp)\n",
    "np.savetxt(\"matrix-p.dat\", matrixp.real)\n",
    "np.all(matrixp.imag == 0)"
   ]
  },
  {
   "cell_type": "code",
   "execution_count": null,
   "metadata": {},
   "outputs": [],
   "source": [
    "plt.imshow(matrixm.real)\n",
    "print(matrixm)\n",
    "np.savetxt(\"matrix-m.dat\", matrixm.real)\n",
    "np.all(matrixm.imag == 0)"
   ]
  },
  {
   "cell_type": "markdown",
   "metadata": {},
   "source": [
    "## Testing more atoms with 0 amplitude and detuning checking interaction term"
   ]
  },
  {
   "cell_type": "code",
   "execution_count": null,
   "metadata": {},
   "outputs": [],
   "source": [
    "Omega_max = 2.0 * 2 * np.pi\n",
    "U = Omega_max / 2.0\n",
    "R_interatomic = MockDevice.rydberg_blockade_radius(U)\n",
    "reg = Register.from_coordinates(\n",
    "    [[0, 0], [2, 0], [4, 0], [0, 2], [2, 2], [4, 2], [0, 4], [2, 4], [4, 4]]\n",
    ")\n",
    "print(f\"Interatomic Radius is: {R_interatomic}µm.\")\n",
    "reg.draw()"
   ]
  },
  {
   "cell_type": "code",
   "execution_count": null,
   "metadata": {},
   "outputs": [],
   "source": [
    "delta_0 = -6 * U\n",
    "delta_f = 2 * U\n",
    "t_rise = 252\n",
    "t_fall = 500\n",
    "t_sweep = (delta_f - delta_0) / (2 * np.pi * 10) * 1000\n",
    "rise = Pulse.ConstantDetuning(RampWaveform(t_rise, 0.0, 0.0), 0, 0.0)\n",
    "sweep = Pulse.ConstantAmplitude(Omega_max, RampWaveform(t_sweep, delta_0, delta_f), 0.0)\n",
    "fall = Pulse.ConstantDetuning(RampWaveform(t_fall, Omega_max, 0.0), delta_f, 0.0)\n",
    "seq1 = Sequence(reg, MockDevice)\n",
    "seq1.declare_channel(\"ising\", \"rydberg_global\")\n",
    "\n",
    "seq1.add(rise, \"ising\")\n",
    "seq1.add(sweep, \"ising\")\n",
    "seq1.add(fall, \"ising\")\n",
    "\n",
    "seq1.draw()"
   ]
  },
  {
   "cell_type": "code",
   "execution_count": null,
   "metadata": {},
   "outputs": [],
   "source": [
    "sim = QutipEmulator.from_sequence(seq1)"
   ]
  },
  {
   "cell_type": "code",
   "execution_count": null,
   "metadata": {},
   "outputs": [],
   "source": [
    "import qse.qbits\n",
    "\n",
    "\n",
    "L = 3\n",
    "nqbits = L * L\n",
    "qsqr = qse.Qbits(\n",
    "    positions=np.array(\n",
    "        [\n",
    "            [0, 0, 0],\n",
    "            [2, 0, 0],\n",
    "            [4, 0, 0],\n",
    "            [0, 2, 0],\n",
    "            [2, 2, 0],\n",
    "            [4, 2, 0],\n",
    "            [0, 4, 0],\n",
    "            [2, 4, 0],\n",
    "            [4, 4, 0],\n",
    "        ]\n",
    "    )\n",
    ")\n",
    "\n",
    "\n",
    "Omega = 1.2  # Amplitude\n",
    "delta = 2.0  # detuning\n",
    "C6 = 5420158.53  # interaction scale"
   ]
  },
  {
   "cell_type": "code",
   "execution_count": null,
   "metadata": {},
   "outputs": [],
   "source": [
    "H1_terms = [qat.core.Term(0.5, \"X\", [i]) for i in range(qsqr.nqbits)]\n",
    "H1 = qat.core.Observable(nqbits, pauli_terms=H1_terms)\n",
    "\n",
    "H2_terms = [qat.core.Term(-0.5, \"Z\", [i]) for i in range(qsqr.nqbits)]\n",
    "H2 = qat.core.Observable(nqbits, pauli_terms=H2_terms)\n",
    "\n",
    "rij = qsqr.get_all_distances()\n",
    "\n",
    "\n",
    "def occ_op(nqbits, qi):\n",
    "    ti = qat.core.Term(1.0, \"Z\", [qi])\n",
    "    return (1 + qat.core.Observable(nqbits, pauli_terms=[ti])) / 2\n",
    "\n",
    "\n",
    "#\n",
    "H3 = 0\n",
    "\n",
    "for i in range(nqbits):\n",
    "    for j in range(i + 1, nqbits):\n",
    "        H3 += (C6 / rij[i, j] ** 6) * occ_op(nqbits, i) * occ_op(nqbits, j)"
   ]
  },
  {
   "cell_type": "code",
   "execution_count": null,
   "metadata": {},
   "outputs": [],
   "source": [
    "from qat.core.variables import Variable, heaviside\n",
    "from qat.core import Observable\n",
    "\n",
    "\n",
    "def create_waveform(times, values):\n",
    "    \"\"\"\n",
    "    A Funnction allowing us to concatenate many lines, limited by heavisides,\n",
    "    thus creating a continuous, kinked line.\n",
    "    \"\"\"\n",
    "    assert len(times) == len(values)\n",
    "    # Store the final line as an ArithExpression\n",
    "    arith_expr = 0\n",
    "    t_var = Variable(\"t\")\n",
    "    # A line between each two points\n",
    "    for entry_i in range(1, len(times)):\n",
    "        # Create ax + b by calculating the slope and the offset\n",
    "        a = (values[entry_i] - values[entry_i - 1]) / (\n",
    "            times[entry_i] - times[entry_i - 1]\n",
    "        )\n",
    "        b = (\n",
    "            (values[entry_i] + values[entry_i - 1])\n",
    "            - a * (times[entry_i] + times[entry_i - 1])\n",
    "        ) / 2\n",
    "        respective_line = a * t_var + b\n",
    "        arith_expr += (\n",
    "            heaviside(t_var, times[entry_i - 1], times[entry_i]) * respective_line\n",
    "        )\n",
    "    return arith_expr\n",
    "\n",
    "\n",
    "#\n",
    "Omega_max = 2.0 * 2 * np.pi\n",
    "U = Omega_max / 2.0\n",
    "\n",
    "delta_0 = -6 * U\n",
    "delta_f = 2 * U\n",
    "\n",
    "t_rise = 0.252\n",
    "t_fall = 0.500\n",
    "t_sweep = ((delta_f - delta_0) / (2 * np.pi * 10) * 1000) * (10**-3)\n",
    "\n",
    "\n",
    "# The waveform of Omega - for the sigma_x terms\n",
    "omega_values = [0.0, 0, Omega_max, 0]\n",
    "times_omega = [0, t_rise, t_rise + t_sweep, t_rise + t_sweep + t_fall]\n",
    "\n",
    "\n",
    "omega_waveform = create_waveform(times_omega, omega_values)\n",
    "# The waveform of the detuning Delta - for the 'n' terms\n",
    "delta_start = -2 * np.pi * 13\n",
    "delta_end = 2 * np.pi * 11  # R_blockade is taken as 7.5\n",
    "delta_values = [0, 0, delta_f, delta_f]\n",
    "delta_waveform = create_waveform(times_omega, delta_values)"
   ]
  },
  {
   "cell_type": "code",
   "execution_count": null,
   "metadata": {},
   "outputs": [],
   "source": [
    "from qat.core import Observable\n",
    "\n",
    "Hamiltonian = Observable(\n",
    "    [\n",
    "        (omega_waveform, H1),\n",
    "        (delta_waveform, H2),\n",
    "    ]\n",
    ")\n",
    "\n",
    "schedule = Schedule(\n",
    "    drive=[\n",
    "        (omega_waveform, H1),\n",
    "        (delta_waveform, H2),\n",
    "    ],\n",
    "    tmax=t_rise + t_sweep + t_fall,\n",
    ")"
   ]
  },
  {
   "cell_type": "code",
   "execution_count": null,
   "metadata": {},
   "outputs": [],
   "source": [
    "schedule.display()"
   ]
  },
  {
   "cell_type": "code",
   "execution_count": null,
   "metadata": {},
   "outputs": [],
   "source": [
    "matrixm = (\n",
    "    0 * H1.to_matrix(sparse=False)\n",
    "    + 0 * H2.to_matrix(sparse=False)\n",
    "    + H3.to_matrix(sparse=False)\n",
    ")"
   ]
  },
  {
   "cell_type": "code",
   "execution_count": null,
   "metadata": {},
   "outputs": [],
   "source": [
    "H3.to_matrix(sparse=False)"
   ]
  },
  {
   "cell_type": "code",
   "execution_count": null,
   "metadata": {},
   "outputs": [],
   "source": [
    "matrixp = sim.get_hamiltonian(0).get_data().toarray()\n",
    "plt.imshow(matrixp.real)\n",
    "print(matrixp)\n",
    "np.savetxt(\"matrix-p.dat\", matrixp.real)\n",
    "np.all(matrixp.imag == 0)"
   ]
  },
  {
   "cell_type": "code",
   "execution_count": null,
   "metadata": {},
   "outputs": [],
   "source": [
    "plt.imshow(matrixm.real)\n",
    "print(matrixm)\n",
    "np.savetxt(\"matrix-m.dat\", matrixm.real)\n",
    "np.all(matrixm.imag == 0)"
   ]
  },
  {
   "cell_type": "code",
   "execution_count": null,
   "metadata": {},
   "outputs": [],
   "source": [
    "np.savetxt(\"matrix-q.dat\", matrixm.real)\n",
    "np.savetxt(\"matrix-p.dat\", matrixp.real)"
   ]
  },
  {
   "cell_type": "code",
   "execution_count": null,
   "metadata": {},
   "outputs": [],
   "source": [
    "p = np.loadtxt(\"matrix-p.dat\")\n",
    "q = np.loadtxt(\"matrix-q.dat\")\n",
    "plt.imshow(p == q)\n",
    "\n",
    "pd = p.diagonal()\n",
    "qd = q.diagonal()\n",
    "print(p / q)"
   ]
  },
  {
   "cell_type": "code",
   "execution_count": null,
   "metadata": {},
   "outputs": [],
   "source": [
    "print(pd / qd)"
   ]
  },
  {
   "cell_type": "code",
   "execution_count": null,
   "metadata": {},
   "outputs": [],
   "source": [
    "print(qd)"
   ]
  },
  {
   "cell_type": "code",
   "execution_count": null,
   "metadata": {},
   "outputs": [],
   "source": []
  },
  {
   "cell_type": "markdown",
   "metadata": {},
   "source": [
    "## Testing more atoms with fixed amplitude and 0 detuning checking interaction term"
   ]
  },
  {
   "cell_type": "code",
   "execution_count": null,
   "metadata": {},
   "outputs": [],
   "source": [
    "Omega_max = 2.0 * 2 * np.pi\n",
    "U = Omega_max / 2.0\n",
    "R_interatomic = MockDevice.rydberg_blockade_radius(U)\n",
    "reg = Register.from_coordinates(\n",
    "    [[0, 0], [10, 0], [20, 0], [0, 10], [10, 10], [20, 10], [0, 20], [10, 20], [20, 20]]\n",
    ")\n",
    "print(f\"Interatomic Radius is: {R_interatomic}µm.\")\n",
    "reg.draw()"
   ]
  },
  {
   "cell_type": "code",
   "execution_count": null,
   "metadata": {},
   "outputs": [],
   "source": [
    "delta_0 = -6 * U\n",
    "delta_f = 2 * U\n",
    "t_rise = 252\n",
    "t_fall = 500\n",
    "t_sweep = (delta_f - delta_0) / (2 * np.pi * 10) * 1000\n",
    "rise = Pulse.ConstantAmplitude(10, RampWaveform(t_rise, 0.0, 0.0), 0.0)\n",
    "sweep = Pulse.ConstantAmplitude(10, RampWaveform(t_sweep, delta_0, delta_f), 0.0)\n",
    "fall = Pulse.ConstantDetuning(RampWaveform(t_fall, Omega_max, 0.0), delta_f, 0.0)\n",
    "seq1 = Sequence(reg, MockDevice)\n",
    "seq1.declare_channel(\"ising\", \"rydberg_global\")\n",
    "\n",
    "seq1.add(rise, \"ising\")\n",
    "seq1.add(sweep, \"ising\")\n",
    "seq1.add(fall, \"ising\")\n",
    "\n",
    "seq1.draw()"
   ]
  },
  {
   "cell_type": "code",
   "execution_count": null,
   "metadata": {},
   "outputs": [],
   "source": [
    "sim = QutipEmulator.from_sequence(seq1)"
   ]
  },
  {
   "cell_type": "code",
   "execution_count": null,
   "metadata": {},
   "outputs": [],
   "source": [
    "results = sim.run(progress_bar=True)"
   ]
  },
  {
   "cell_type": "code",
   "execution_count": null,
   "metadata": {},
   "outputs": [],
   "source": [
    "import matplotlib.pyplot as plt\n",
    "\n",
    "count = results.sample_final_state()\n",
    "\n",
    "most_freq = {k: v for k, v in count.items() if v > 10}\n",
    "plt.bar(list(most_freq.keys()), list(most_freq.values()))\n",
    "plt.xticks(rotation=\"vertical\")\n",
    "plt.show()"
   ]
  },
  {
   "cell_type": "code",
   "execution_count": null,
   "metadata": {},
   "outputs": [],
   "source": [
    "# Define Rydberg state observable\n",
    "obs = qutip.basis(256 * 2, 0).proj()\n",
    "plt.figure(figsize=(6, 6))\n",
    "k = results.expect([obs])[0]\n",
    "\n",
    "plt.plot(results._sim_times, k)\n",
    "plt.xlabel(r\"Time ($\\mu s$)\")\n",
    "plt.ylabel(r\"Population in $|r\\rangle$\")\n",
    "plt.show()"
   ]
  },
  {
   "cell_type": "code",
   "execution_count": null,
   "metadata": {},
   "outputs": [],
   "source": [
    "import qse.qbits\n",
    "\n",
    "\n",
    "L = 3\n",
    "nqbits = L * L\n",
    "qsqr = qse.Qbits(\n",
    "    positions=np.array(\n",
    "        [\n",
    "            [0, 0, 0],\n",
    "            [10, 0, 0],\n",
    "            [20, 0, 0],\n",
    "            [0, 10, 0],\n",
    "            [10, 10, 0],\n",
    "            [20, 10, 0],\n",
    "            [0, 20, 0],\n",
    "            [10, 20, 0],\n",
    "            [20, 20, 0],\n",
    "        ]\n",
    "    )\n",
    ")\n",
    "\n",
    "\n",
    "Omega = 1.2  # Amplitude\n",
    "delta = 2.0  # detuning\n",
    "C6 = 5420158.53  # interaction scale\n",
    "\n",
    "qsqr.draw()"
   ]
  },
  {
   "cell_type": "code",
   "execution_count": null,
   "metadata": {},
   "outputs": [],
   "source": [
    "H1_terms = [qat.core.Term(0.5, \"X\", [i]) for i in range(qsqr.nqbits)]\n",
    "H1 = qat.core.Observable(nqbits, pauli_terms=H1_terms)\n",
    "\n",
    "H2_terms = [qat.core.Term(-0.5, \"Z\", [i]) for i in range(qsqr.nqbits)]\n",
    "H2 = qat.core.Observable(nqbits, pauli_terms=H2_terms)\n",
    "\n",
    "rij = qsqr.get_all_distances()\n",
    "\n",
    "\n",
    "def occ_op(nqbits, qi):\n",
    "    ti = qat.core.Term(1.0, \"Z\", [qi])\n",
    "    return (1 + qat.core.Observable(nqbits, pauli_terms=[ti])) / 2\n",
    "\n",
    "\n",
    "#\n",
    "H3 = 0\n",
    "\n",
    "for i in range(nqbits):\n",
    "    for j in range(i + 1, nqbits):\n",
    "        H3 += (C6 / rij[i, j] ** 6) * occ_op(nqbits, i) * occ_op(nqbits, j)"
   ]
  },
  {
   "cell_type": "code",
   "execution_count": null,
   "metadata": {},
   "outputs": [],
   "source": [
    "from qat.core.variables import Variable, heaviside\n",
    "from qat.core import Observable\n",
    "\n",
    "\n",
    "def create_waveform(times, values):\n",
    "    \"\"\"\n",
    "    A Funnction allowing us to concatenate many lines, limited by heavisides,\n",
    "    thus creating a continuous, kinked line.\n",
    "    \"\"\"\n",
    "    assert len(times) == len(values)\n",
    "    # Store the final line as an ArithExpression\n",
    "    arith_expr = 0\n",
    "    t_var = Variable(\"t\")\n",
    "    # A line between each two points\n",
    "    for entry_i in range(1, len(times)):\n",
    "        # Create ax + b by calculating the slope and the offset\n",
    "        a = (values[entry_i] - values[entry_i - 1]) / (\n",
    "            times[entry_i] - times[entry_i - 1]\n",
    "        )\n",
    "        b = (\n",
    "            (values[entry_i] + values[entry_i - 1])\n",
    "            - a * (times[entry_i] + times[entry_i - 1])\n",
    "        ) / 2\n",
    "        respective_line = a * t_var + b\n",
    "        arith_expr += (\n",
    "            heaviside(t_var, times[entry_i - 1], times[entry_i]) * respective_line\n",
    "        )\n",
    "    return arith_expr\n",
    "\n",
    "\n",
    "#\n",
    "Omega_max = 2.0 * 2 * np.pi\n",
    "U = Omega_max / 2.0\n",
    "\n",
    "delta_0 = -6 * U\n",
    "delta_f = 2 * U\n",
    "\n",
    "t_rise = 0.252\n",
    "t_fall = 0.500\n",
    "t_sweep = ((delta_f - delta_0) / (2 * np.pi * 10) * 1000) * (10**-3)\n",
    "\n",
    "\n",
    "# The waveform of Omega - for the sigma_x terms\n",
    "omega_values = [10.0, 0, Omega_max, 0]\n",
    "times_omega = [0, t_rise, t_rise + t_sweep, t_rise + t_sweep + t_fall]\n",
    "\n",
    "\n",
    "omega_waveform = create_waveform(times_omega, omega_values)\n",
    "# The waveform of the detuning Delta - for the 'n' terms\n",
    "delta_start = -2 * np.pi * 13\n",
    "delta_end = 2 * np.pi * 11  # R_blockade is taken as 7.5\n",
    "delta_values = [0, 0, delta_f, delta_f]\n",
    "delta_waveform = create_waveform(times_omega, delta_values)"
   ]
  },
  {
   "cell_type": "code",
   "execution_count": null,
   "metadata": {},
   "outputs": [],
   "source": [
    "from qat.core import Observable\n",
    "\n",
    "Hamiltonian = Observable(\n",
    "    [\n",
    "        (omega_waveform, H1),\n",
    "        (delta_waveform, H2),\n",
    "    ]\n",
    ")\n",
    "\n",
    "schedule = Schedule(\n",
    "    drive=[\n",
    "        (omega_waveform, H1),\n",
    "        (delta_waveform, H2),\n",
    "    ],\n",
    "    tmax=t_rise + t_sweep + t_fall,\n",
    ")"
   ]
  },
  {
   "cell_type": "code",
   "execution_count": null,
   "metadata": {},
   "outputs": [],
   "source": [
    "schedule.display()"
   ]
  },
  {
   "cell_type": "code",
   "execution_count": null,
   "metadata": {},
   "outputs": [],
   "source": [
    "matrixm = (\n",
    "    10 * H1.to_matrix(sparse=False)\n",
    "    + 0 * H2.to_matrix(sparse=False)\n",
    "    + H3.to_matrix(sparse=False)\n",
    ")"
   ]
  },
  {
   "cell_type": "code",
   "execution_count": null,
   "metadata": {},
   "outputs": [],
   "source": [
    "H3.to_matrix(sparse=False)"
   ]
  },
  {
   "cell_type": "code",
   "execution_count": null,
   "metadata": {},
   "outputs": [],
   "source": [
    "matrixp = sim.get_hamiltonian(0).get_data().toarray()\n",
    "plt.imshow(matrixp.real)\n",
    "print(matrixp)\n",
    "np.savetxt(\"matrix-p.dat\", matrixp.real)\n",
    "np.all(matrixp.imag == 0)"
   ]
  },
  {
   "cell_type": "code",
   "execution_count": null,
   "metadata": {},
   "outputs": [],
   "source": [
    "plt.imshow(matrixm.real)\n",
    "print(matrixm)\n",
    "np.savetxt(\"matrix-m.dat\", matrixm.real)\n",
    "np.all(matrixm.imag == 0)"
   ]
  },
  {
   "cell_type": "code",
   "execution_count": null,
   "metadata": {},
   "outputs": [],
   "source": [
    "np.savetxt(\"matrix-q.dat\", matrixm.real)\n",
    "np.savetxt(\"matrix-p.dat\", matrixp.real)"
   ]
  },
  {
   "cell_type": "code",
   "execution_count": null,
   "metadata": {},
   "outputs": [],
   "source": [
    "p = np.loadtxt(\"matrix-p.dat\")\n",
    "q = np.loadtxt(\"matrix-q.dat\")\n",
    "plt.imshow(p == q)\n",
    "\n",
    "pd = p.diagonal()\n",
    "qd = q.diagonal()\n",
    "print(p / q)"
   ]
  },
  {
   "cell_type": "code",
   "execution_count": null,
   "metadata": {},
   "outputs": [],
   "source": [
    "print(pd / qd)"
   ]
  },
  {
   "cell_type": "code",
   "execution_count": null,
   "metadata": {},
   "outputs": [],
   "source": [
    "print(qd)"
   ]
  },
  {
   "cell_type": "code",
   "execution_count": null,
   "metadata": {},
   "outputs": [],
   "source": []
  },
  {
   "cell_type": "markdown",
   "metadata": {},
   "source": [
    "## Testing more atoms with fixed amplitude and detuning Pauli term fixed checking interaction term"
   ]
  },
  {
   "cell_type": "code",
   "execution_count": null,
   "metadata": {},
   "outputs": [],
   "source": [
    "Omega_max = 2.0 * 2 * np.pi\n",
    "U = Omega_max / 2.0\n",
    "R_interatomic = MockDevice.rydberg_blockade_radius(U)\n",
    "reg = Register.from_coordinates(\n",
    "    [[0, 0], [10, 0], [20, 0], [0, 10], [10, 10], [20, 10], [0, 20], [10, 20], [20, 20]]\n",
    ")\n",
    "print(f\"Interatomic Radius is: {R_interatomic}µm.\")\n",
    "reg.draw()"
   ]
  },
  {
   "cell_type": "code",
   "execution_count": null,
   "metadata": {},
   "outputs": [],
   "source": [
    "delta_0 = -6 * U\n",
    "delta_f = 2 * U\n",
    "t_rise = 252\n",
    "t_fall = 500\n",
    "t_sweep = (delta_f - delta_0) / (2 * np.pi * 10) * 1000\n",
    "rise = Pulse.ConstantAmplitude(10, RampWaveform(t_rise, 10.0, 0.0), 0)\n",
    "sweep = Pulse.ConstantAmplitude(10, RampWaveform(t_sweep, delta_0, delta_f), 0)\n",
    "fall = Pulse.ConstantDetuning(RampWaveform(t_fall, Omega_max, 0.0), delta_f, 0.0)\n",
    "seq1 = Sequence(reg, MockDevice)\n",
    "seq1.declare_channel(\"ising\", \"rydberg_global\")\n",
    "\n",
    "seq1.add(rise, \"ising\")\n",
    "seq1.add(sweep, \"ising\")\n",
    "seq1.add(fall, \"ising\")\n",
    "\n",
    "seq1.draw()"
   ]
  },
  {
   "cell_type": "code",
   "execution_count": null,
   "metadata": {},
   "outputs": [],
   "source": [
    "sim = QutipEmulator.from_sequence(seq1)"
   ]
  },
  {
   "cell_type": "code",
   "execution_count": null,
   "metadata": {},
   "outputs": [],
   "source": [
    "results = sim.run(progress_bar=True)"
   ]
  },
  {
   "cell_type": "code",
   "execution_count": null,
   "metadata": {},
   "outputs": [],
   "source": [
    "import matplotlib.pyplot as plt\n",
    "\n",
    "count = results.sample_final_state()\n",
    "\n",
    "most_freq = {k: v for k, v in count.items() if v > 10}\n",
    "plt.bar(list(most_freq.keys()), list(most_freq.values()))\n",
    "plt.xticks(rotation=\"vertical\")\n",
    "plt.show()"
   ]
  },
  {
   "cell_type": "code",
   "execution_count": null,
   "metadata": {},
   "outputs": [],
   "source": [
    "# Define Rydberg state observable\n",
    "obs = qutip.basis(256 * 2, 0).proj()\n",
    "plt.figure(figsize=(6, 6))\n",
    "k = results.expect([obs])[0]\n",
    "\n",
    "plt.plot(results._sim_times, k)\n",
    "plt.xlabel(r\"Time ($\\mu s$)\")\n",
    "plt.ylabel(r\"Population in $|r\\rangle$\")\n",
    "plt.show()"
   ]
  },
  {
   "cell_type": "code",
   "execution_count": null,
   "metadata": {},
   "outputs": [],
   "source": [
    "import qse.qbits\n",
    "\n",
    "\n",
    "L = 3\n",
    "nqbits = L * L\n",
    "qsqr = qse.Qbits(\n",
    "    positions=np.array(\n",
    "        [\n",
    "            [0, 0, 0],\n",
    "            [10, 0, 0],\n",
    "            [20, 0, 0],\n",
    "            [0, 10, 0],\n",
    "            [10, 10, 0],\n",
    "            [20, 10, 0],\n",
    "            [0, 20, 0],\n",
    "            [10, 20, 0],\n",
    "            [20, 20, 0],\n",
    "        ]\n",
    "    )\n",
    ")\n",
    "\n",
    "\n",
    "Omega = 1.2  # Amplitude\n",
    "delta = 2.0  # detuning\n",
    "C6 = 5420158.53  # interaction scale\n",
    "\n",
    "qsqr.draw()"
   ]
  },
  {
   "cell_type": "code",
   "execution_count": null,
   "metadata": {},
   "outputs": [],
   "source": [
    "def occ_op(nqbits, qi):\n",
    "    ti = qat.core.Term(1.0, \"Z\", [qi])\n",
    "    return (1 + qat.core.Observable(nqbits, pauli_terms=[ti])) / 2\n",
    "\n",
    "\n",
    "#\n",
    "H1_terms = [qat.core.Term(0.5, \"X\", [i]) for i in range(qsqr.nqbits)]\n",
    "H1 = qat.core.Observable(nqbits, pauli_terms=H1_terms)\n",
    "\n",
    "# H2_terms = [qat.core.Term(-0.5, \"Z\", [i])+qat.core.Term(-0.5,\"I\",[i]) for i in range(qsqr.nqbits)]\n",
    "# # H2_terms_Z = [qat.core.Term(-0.5, \"Z\", [i]) for i in range(qsqr.nqbits)]\n",
    "# H2 = qat.core.Observable(nqbits, pauli_terms=H2_terms)\n",
    "H2 = 0\n",
    "for i in range(qsqr.nqbits):\n",
    "    H2 += occ_op(qsqr.nqbits, i)\n",
    "H2 = H2 * (-1)\n",
    "rij = qsqr.get_all_distances()\n",
    "\n",
    "\n",
    "H3 = 0\n",
    "\n",
    "for i in range(nqbits):\n",
    "    for j in range(i + 1, nqbits):\n",
    "        H3 += (C6 / rij[i, j] ** 6) * occ_op(nqbits, i) * occ_op(nqbits, j)"
   ]
  },
  {
   "cell_type": "code",
   "execution_count": null,
   "metadata": {},
   "outputs": [],
   "source": [
    "from qat.core.variables import Variable, heaviside\n",
    "from qat.core import Observable\n",
    "\n",
    "\n",
    "def create_waveform(times, values):\n",
    "    \"\"\"\n",
    "    A Funnction allowing us to concatenate many lines, limited by heavisides,\n",
    "    thus creating a continuous, kinked line.\n",
    "    \"\"\"\n",
    "    assert len(times) == len(values)\n",
    "    # Store the final line as an ArithExpression\n",
    "    arith_expr = 0\n",
    "    t_var = Variable(\"t\")\n",
    "    # A line between each two points\n",
    "    for entry_i in range(1, len(times)):\n",
    "        # Create ax + b by calculating the slope and the offset\n",
    "        a = (values[entry_i] - values[entry_i - 1]) / (\n",
    "            times[entry_i] - times[entry_i - 1]\n",
    "        )\n",
    "        b = (\n",
    "            (values[entry_i] + values[entry_i - 1])\n",
    "            - a * (times[entry_i] + times[entry_i - 1])\n",
    "        ) / 2\n",
    "        respective_line = a * t_var + b\n",
    "        arith_expr += (\n",
    "            heaviside(t_var, times[entry_i - 1], times[entry_i]) * respective_line\n",
    "        )\n",
    "    return arith_expr\n",
    "\n",
    "\n",
    "#\n",
    "Omega_max = 2.0 * 2 * np.pi\n",
    "U = Omega_max / 2.0\n",
    "\n",
    "delta_0 = -6 * U\n",
    "delta_f = 2 * U\n",
    "\n",
    "t_rise = 0.252\n",
    "t_fall = 0.500\n",
    "t_sweep = ((delta_f - delta_0) / (2 * np.pi * 10) * 1000) * (10**-3)\n",
    "\n",
    "\n",
    "# The waveform of Omega - for the sigma_x terms\n",
    "omega_values = [10.0, 0, Omega_max, 0]\n",
    "times_omega = [0, t_rise, t_rise + t_sweep, t_rise + t_sweep + t_fall]\n",
    "\n",
    "\n",
    "omega_waveform = create_waveform(times_omega, omega_values)\n",
    "# The waveform of the detuning Delta - for the 'n' terms\n",
    "delta_start = -2 * np.pi * 13\n",
    "delta_end = 2 * np.pi * 11  # R_blockade is taken as 7.5\n",
    "delta_values = [10, 0, delta_f, delta_f]\n",
    "delta_waveform = create_waveform(times_omega, delta_values)"
   ]
  },
  {
   "cell_type": "code",
   "execution_count": null,
   "metadata": {},
   "outputs": [],
   "source": [
    "from qat.core import Observable\n",
    "\n",
    "Hamiltonian = Observable(\n",
    "    [\n",
    "        (omega_waveform, H1),\n",
    "        (delta_waveform, H2),\n",
    "    ]\n",
    ")\n",
    "\n",
    "schedule = Schedule(\n",
    "    drive=[\n",
    "        (omega_waveform, H1),\n",
    "        (delta_waveform, H2),\n",
    "    ],\n",
    "    tmax=t_rise + t_sweep + t_fall,\n",
    ")"
   ]
  },
  {
   "cell_type": "code",
   "execution_count": null,
   "metadata": {},
   "outputs": [],
   "source": [
    "schedule.display()"
   ]
  },
  {
   "cell_type": "code",
   "execution_count": null,
   "metadata": {},
   "outputs": [],
   "source": [
    "matrixm = (\n",
    "    10 * H1.to_matrix(sparse=False)\n",
    "    + 10 * H2.to_matrix(sparse=False)\n",
    "    + H3.to_matrix(sparse=False)\n",
    ")"
   ]
  },
  {
   "cell_type": "code",
   "execution_count": null,
   "metadata": {},
   "outputs": [],
   "source": []
  },
  {
   "cell_type": "code",
   "execution_count": null,
   "metadata": {},
   "outputs": [],
   "source": [
    "H2.to_matrix(sparse=False)"
   ]
  },
  {
   "cell_type": "code",
   "execution_count": null,
   "metadata": {},
   "outputs": [],
   "source": [
    "matrixp = sim.get_hamiltonian(0).get_data().toarray()\n",
    "plt.imshow(matrixp.real)\n",
    "print(matrixp)\n",
    "np.savetxt(\"matrix-p.dat\", matrixp.real)\n",
    "np.all(matrixp.imag == 0)"
   ]
  },
  {
   "cell_type": "code",
   "execution_count": null,
   "metadata": {},
   "outputs": [],
   "source": [
    "plt.imshow(matrixm.real)\n",
    "print(matrixm)\n",
    "np.savetxt(\"matrix-m.dat\", matrixm.real)\n",
    "np.all(matrixm.imag == 0)"
   ]
  },
  {
   "cell_type": "code",
   "execution_count": null,
   "metadata": {},
   "outputs": [],
   "source": [
    "np.savetxt(\"matrix-q.dat\", matrixm.real)\n",
    "np.savetxt(\"matrix-p.dat\", matrixp.real)"
   ]
  },
  {
   "cell_type": "code",
   "execution_count": null,
   "metadata": {},
   "outputs": [],
   "source": [
    "p = np.loadtxt(\"matrix-p.dat\")\n",
    "q = np.loadtxt(\"matrix-q.dat\")\n",
    "plt.imshow(p == q)\n",
    "\n",
    "pd = p.diagonal()\n",
    "qd = q.diagonal()\n",
    "print(p / q)"
   ]
  },
  {
   "cell_type": "code",
   "execution_count": null,
   "metadata": {},
   "outputs": [],
   "source": [
    "print(pd / qd)"
   ]
  },
  {
   "cell_type": "code",
   "execution_count": null,
   "metadata": {},
   "outputs": [],
   "source": [
    "print(q)"
   ]
  },
  {
   "cell_type": "code",
   "execution_count": null,
   "metadata": {},
   "outputs": [],
   "source": [
    "print(p)"
   ]
  },
  {
   "cell_type": "code",
   "execution_count": null,
   "metadata": {},
   "outputs": [],
   "source": [
    "def occ_op(nqbits, qi):\n",
    "    ti = qat.core.Term(1.0, \"Z\", [qi])\n",
    "    return (1 + qat.core.Observable(nqbits, pauli_terms=[ti])) / 2"
   ]
  },
  {
   "cell_type": "code",
   "execution_count": null,
   "metadata": {},
   "outputs": [],
   "source": [
    "qubits = qse.Qbits(positions=np.array([[0, 0, 0]]))\n",
    "H2 = 0\n",
    "for i in range(qubits.nqbits):\n",
    "    H2 += occ_op(qubits.nqbits, i)\n",
    "H2 = H2 * (-1)\n",
    "rij = qubits.get_all_distances()"
   ]
  },
  {
   "cell_type": "code",
   "execution_count": null,
   "metadata": {},
   "outputs": [],
   "source": [
    "H2.to_matrix(sparse=False)"
   ]
  },
  {
   "cell_type": "code",
   "execution_count": null,
   "metadata": {},
   "outputs": [],
   "source": []
  },
  {
   "cell_type": "markdown",
   "metadata": {},
   "source": [
    "## Version"
   ]
  },
  {
   "cell_type": "code",
   "execution_count": null,
   "metadata": {},
   "outputs": [],
   "source": [
    "qse.utils.print_environment()"
   ]
  }
 ],
 "metadata": {
  "kernelspec": {
   "display_name": "qse",
   "language": "python",
   "name": "python3"
  },
  "language_info": {
   "codemirror_mode": {
    "name": "ipython",
    "version": 3
   },
   "file_extension": ".py",
   "mimetype": "text/x-python",
   "name": "python",
   "nbconvert_exporter": "python",
   "pygments_lexer": "ipython3",
   "version": "3.11.11"
  }
 },
 "nbformat": 4,
 "nbformat_minor": 2
}
