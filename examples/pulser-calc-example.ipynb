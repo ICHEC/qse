{
 "cells": [
  {
   "cell_type": "markdown",
   "metadata": {},
   "source": [
    "# Calculation Example\n",
    "\n",
    "The following tutorial shows how to use `qse` to run a calculation.\n",
    "We use `pulser` here for the backend."
   ]
  },
  {
   "cell_type": "code",
   "execution_count": null,
   "metadata": {},
   "outputs": [],
   "source": [
    "import matplotlib.pyplot as plt\n",
    "import numpy as np\n",
    "import qse\n",
    "import pulser"
   ]
  },
  {
   "cell_type": "markdown",
   "metadata": {},
   "source": [
    "## Create a 2D square lattice"
   ]
  },
  {
   "cell_type": "code",
   "execution_count": null,
   "metadata": {},
   "outputs": [],
   "source": [
    "omega_max = 2.0 * 2 * np.pi  # rad/µs\n",
    "rabi_frequency = omega_max / 2.0  # rad/µs\n",
    "\n",
    "# Now we generate the qbits object that represents a 2D lattice.\n",
    "# Keeping the lattice spacing a bit below the blockade radius keeps\n",
    "# the nearest neighbours antiferromagnetic.\n",
    "blockade_radius = pulser.devices.MockDevice.rydberg_blockade_radius(\n",
    "    rabi_frequency\n",
    ")  # in µm\n",
    "q2d = qse.lattices.square(\n",
    "    lattice_spacing=0.8 * blockade_radius, repeats_x=3, repeats_y=2\n",
    ")\n",
    "\n",
    "q2d.draw(radius=\"nearest\", units=\"µm\")"
   ]
  },
  {
   "cell_type": "markdown",
   "metadata": {},
   "source": [
    "## Create the hamiltonian"
   ]
  },
  {
   "cell_type": "code",
   "execution_count": null,
   "metadata": {},
   "outputs": [],
   "source": [
    "delta_0 = -6 * rabi_frequency  # ns\n",
    "delta_f = 2 * rabi_frequency  # ns\n",
    "t_rise = 252  # ns\n",
    "t_fall = 500  # ns\n",
    "t_sweep = (delta_f - delta_0) / (2 * np.pi * 10) * 1000  # ns\n",
    "\n",
    "# up ramp, constant, downramp waveform\n",
    "amplitude_afm = pulser.CompositeWaveform(\n",
    "    pulser.waveforms.RampWaveform(t_rise, 0.0, omega_max),\n",
    "    pulser.waveforms.ConstantWaveform(t_sweep, omega_max),\n",
    "    pulser.waveforms.RampWaveform(t_fall, omega_max, 0.0),\n",
    ")\n",
    "\n",
    "# corresponding waveform for detuning\n",
    "detuning_afm = pulser.CompositeWaveform(\n",
    "    pulser.waveforms.ConstantWaveform(t_rise, delta_0),\n",
    "    pulser.waveforms.RampWaveform(t_sweep, delta_0, delta_f),\n",
    "    pulser.waveforms.ConstantWaveform(t_fall, delta_f),\n",
    ")"
   ]
  },
  {
   "cell_type": "code",
   "execution_count": null,
   "metadata": {},
   "outputs": [],
   "source": [
    "pulser.Pulse(amplitude=amplitude_afm, detuning=detuning_afm, phase=0.0).draw()"
   ]
  },
  {
   "cell_type": "markdown",
   "metadata": {},
   "source": [
    "## Set up the calculator and run the job"
   ]
  },
  {
   "cell_type": "code",
   "execution_count": null,
   "metadata": {},
   "outputs": [],
   "source": [
    "pcalc = qse.calc.Pulser(qbits=q2d, amplitude=amplitude_afm, detuning=detuning_afm)\n",
    "pcalc.build_sequence()\n",
    "pcalc.calculate()"
   ]
  },
  {
   "cell_type": "markdown",
   "metadata": {},
   "source": [
    "## Sample the result"
   ]
  },
  {
   "cell_type": "code",
   "execution_count": null,
   "metadata": {},
   "outputs": [],
   "source": [
    "count = pcalc.results.sample_final_state()\n",
    "\n",
    "most_freq = {k: v for k, v in count.items() if v > 10}\n",
    "plt.bar(list(most_freq.keys()), list(most_freq.values()))\n",
    "plt.xticks(rotation=\"vertical\")\n",
    "plt.ylabel(\"Count\")\n",
    "plt.show()"
   ]
  },
  {
   "cell_type": "markdown",
   "metadata": {},
   "source": [
    "The states `011001` and `100110` are the most prevalent, we can visualise them using the `colouring` parameter in `draw`.\n",
    "We see that they correspond to anti-ferromagnetic orderings."
   ]
  },
  {
   "cell_type": "code",
   "execution_count": null,
   "metadata": {},
   "outputs": [],
   "source": [
    "q2d.draw(radius=\"nearest\", colouring=\"011001\", units=\"µm\")"
   ]
  },
  {
   "cell_type": "code",
   "execution_count": null,
   "metadata": {},
   "outputs": [],
   "source": [
    "q2d.draw(radius=\"nearest\", colouring=\"100110\", units=\"µm\")"
   ]
  },
  {
   "cell_type": "markdown",
   "metadata": {},
   "source": [
    "## Version"
   ]
  },
  {
   "cell_type": "code",
   "execution_count": null,
   "metadata": {},
   "outputs": [],
   "source": [
    "qse.utils.print_environment()"
   ]
  }
 ],
 "metadata": {
  "kernelspec": {
   "display_name": "qse",
   "language": "python",
   "name": "python3"
  },
  "language_info": {
   "codemirror_mode": {
    "name": "ipython",
    "version": 3
   },
   "file_extension": ".py",
   "mimetype": "text/x-python",
   "name": "python",
   "nbconvert_exporter": "python",
   "pygments_lexer": "ipython3",
   "version": "3.11.11"
  }
 },
 "nbformat": 4,
 "nbformat_minor": 2
}
